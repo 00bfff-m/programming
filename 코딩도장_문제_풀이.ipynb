{
  "cells": [
    {
      "cell_type": "markdown",
      "metadata": {
        "id": "view-in-github",
        "colab_type": "text"
      },
      "source": [
        "<a href=\"https://colab.research.google.com/github/00bfff-m/programming/blob/main/%EC%BD%94%EB%94%A9%EB%8F%84%EC%9E%A5_%EB%AC%B8%EC%A0%9C_%ED%92%80%EC%9D%B4.ipynb\" target=\"_parent\"><img src=\"https://colab.research.google.com/assets/colab-badge.svg\" alt=\"Open In Colab\"/></a>"
      ]
    },
    {
      "cell_type": "markdown",
      "metadata": {
        "id": "IO-M2p0eFQEQ"
      },
      "source": [
        "# 1. 소프트웨어 교육과 파이썬\n",
        "\n",
        "# 2. 파이썬 설치하기\n",
        "\n",
        "# 3. Hello, world!로 시작하기\n",
        "\n",
        "## 3-심사문제\n",
        "\n",
        "1. 'Hello, world!' 두 개를 각 줄에 출력하는 프로그램을 만드세요(대소문자 구분과 띄어쓰기가 정확해야 합니다). 정답에는 출력 결과를 만족하는 전체 소스 코드를 입력해야 합니다."
      ]
    },
    {
      "cell_type": "code",
      "execution_count": null,
      "metadata": {
        "id": "3o2MOt2zFQET",
        "outputId": "32ddc13f-fa45-44f1-cf7c-02ab28aaf9e8"
      },
      "outputs": [
        {
          "name": "stdout",
          "output_type": "stream",
          "text": [
            "Hello, world!\n",
            "Hello, world!\n"
          ]
        }
      ],
      "source": [
        "print('Hello, world!')\n",
        "print('Hello, world!')"
      ]
    },
    {
      "cell_type": "markdown",
      "metadata": {
        "id": "Yz9aFi2RFQEU"
      },
      "source": [
        "# 4. 기본 문법 알아보기\n",
        "\n",
        "# 5. 숫자 계산하기\n",
        "\n",
        "## 5-심사문제\n",
        "\n",
        "1. L이라는 게임에서 \"왜곡\"이라는 스킬이 AP * 0.6 + 225의 피해를 입힙니다. 참고로 이 게임에서 AP(Ability Power, 주문력)는 마법 능력치를 뜻합니다. 다음 소스 코드를 완성하여 스킬의 피해량이 출력되게 만드세요."
      ]
    },
    {
      "cell_type": "code",
      "execution_count": null,
      "metadata": {
        "id": "EBkRRF_fFQEV",
        "outputId": "10201e61-3974-4681-db58-8d176a28e1fd"
      },
      "outputs": [
        {
          "name": "stdout",
          "output_type": "stream",
          "text": [
            "286.2\n"
          ]
        }
      ],
      "source": [
        "#AP = 102\n",
        "print(102 * 0.6 + 225)"
      ]
    },
    {
      "cell_type": "markdown",
      "metadata": {
        "id": "OA4ese_HFQEV"
      },
      "source": [
        "# 6. 변수와 입력 사용하기\n",
        "\n",
        "## 6-심사문제\n",
        "\n",
        "1. 다음 소스 코드를 완성하여 50, 100, None이 각 줄에 출력되게 만드세요."
      ]
    },
    {
      "cell_type": "code",
      "execution_count": null,
      "metadata": {
        "scrolled": true,
        "id": "Vozip95uFQEV",
        "outputId": "245399e9-4ad3-4dd4-ec10-1f949b05b30a"
      },
      "outputs": [
        {
          "name": "stdout",
          "output_type": "stream",
          "text": [
            "50\n",
            "100\n",
            "None\n"
          ]
        }
      ],
      "source": [
        "a = 50\n",
        "b = 100\n",
        "c = None\n",
        "\n",
        "print(a)\n",
        "print(b)\n",
        "print(c)"
      ]
    },
    {
      "cell_type": "markdown",
      "metadata": {
        "id": "jdLK-E4vFQEW"
      },
      "source": [
        "2. 표준 입력으로 국어, 영어, 수학, 과학 점수가 입력됩니다. 평균 점수를 출력하는 프로그램을 만드세요(input에서 안내 문자열은 출력하지 않아야 합니다). 단, 평균 점수를 출력할 때는 소수점 이하 자리는 버립니다(정수로 출력)."
      ]
    },
    {
      "cell_type": "code",
      "execution_count": null,
      "metadata": {
        "id": "rRr8_Yz3FQEW",
        "outputId": "f01d6081-b608-4217-bd3d-214fc2dd65b4"
      },
      "outputs": [
        {
          "name": "stdout",
          "output_type": "stream",
          "text": [
            "1 1 1 1\n",
            "1\n"
          ]
        }
      ],
      "source": [
        "#정수형은 소수점이 나오지 않음 \n",
        "#몫에 float는 소수형, int는 정수형\n",
        "# ex) 8(정수형)과 8.0(실수형)은 다른 자료형임\n",
        "korean, english, math, science = map(int, input().split())\n",
        "print((korean + english + math + science)// 4)"
      ]
    },
    {
      "cell_type": "markdown",
      "metadata": {
        "id": "njFVdt9yFQEX"
      },
      "source": [
        "# 7. 출력 방법 알아보기\n",
        "\n",
        "## 7-심사문제\n",
        "\n",
        "1. 표준 입력으로 년, 월, 일, 시, 분, 초가 입력됩니다. 다음 소스 코드를 완성하여 입력된 날짜와 시간을 년-월-일T시:분:초 형식으로 출력되게 만드세요."
      ]
    },
    {
      "cell_type": "code",
      "execution_count": null,
      "metadata": {
        "id": "8mFkBVWxFQEX",
        "outputId": "40150331-afe0-4834-9112-3e3c9c3760db"
      },
      "outputs": [
        {
          "name": "stdout",
          "output_type": "stream",
          "text": [
            "1 1 1 1 1 1\n",
            "1-1-1T1:1:1\n"
          ]
        }
      ],
      "source": [
        "year, month, day, hour, minute, second = input().split()\n",
        "\n",
        "print(year, month, day, sep='-', end='T')\n",
        "# end에 문자열을 지정하면 다음 번 출력이 지정했던 문자열 바로 뒤에 오게 됨\n",
        "\n",
        "print(hour, minute, second, sep=':')"
      ]
    },
    {
      "cell_type": "markdown",
      "metadata": {
        "id": "IUn9kkSIFQEX"
      },
      "source": [
        "# 8. 불과 비교, 논리 연산자 알아보기\n",
        "\n",
        "## 8-심사문제\n",
        "\n",
        "1. 표준 입력으로 국어, 영어, 수학, 과학 점수가 입력됩니다. 국어는 90점 이상, 영어는 80점 초과, 수학은 85점 초과, 과학은 80점 이상일 때 합격이라고 정했습니다(한 과목이라도 조건에 만족하지 않으면 불합격). 다음 소스 코드를 완성하여 합격이면 True, 불합격이면 False가 출력되게 만드세요(input에서 안내 문자열은 출력하지 않아야 합니다)."
      ]
    },
    {
      "cell_type": "code",
      "execution_count": null,
      "metadata": {
        "id": "z8qvMeXBFQEY",
        "outputId": "38b0ba55-59b5-4f3e-a3a6-26dbb3eb2f2c"
      },
      "outputs": [
        {
          "name": "stdout",
          "output_type": "stream",
          "text": [
            "1 1 1 1 \n",
            "False\n"
          ]
        }
      ],
      "source": [
        "#'=='는 값을 비교, is는 객체를 비교\n",
        "#0, '', None은 False\n",
        "korean, english, math, science = map(int, input().split())\n",
        "print(korean >= 90 and english > 80 and math >85 and science >=80)"
      ]
    },
    {
      "cell_type": "markdown",
      "metadata": {
        "id": "ETErmQPiFQEY"
      },
      "source": [
        "# 9. 문자열 사용하기 \n",
        "\n",
        "## 9-심사문제\n",
        "\n",
        "1. 다음 소스 코드를 완성하여 실행 결과대로 문자열이 출력되게 만드세요."
      ]
    },
    {
      "cell_type": "code",
      "execution_count": null,
      "metadata": {
        "id": "5kCDGZYjFQEY",
        "outputId": "dfce24a1-0bf7-49a7-fd3d-866121d1eae4"
      },
      "outputs": [
        {
          "data": {
            "text/plain": [
              "'\\'Python\\' is a \"programming language\"'"
            ]
          },
          "execution_count": 1,
          "metadata": {},
          "output_type": "execute_result"
        }
      ],
      "source": [
        "#문자열 안에 작은따옴표나 큰따옴표를 포함시키는 방법\n",
        "\n",
        "\"'Python' is a programming language\" #큰 or 작은 따옴표 안에 다른 크기의 따옴표 넣기\n",
        "'\\'Python\\' is a \\\"programming language\\\"' #따옴표 왼쪽에 \"\\\" 삽입\n",
        "''''Python' is a \"programming language\"''' #큰 or 작은 따옴표 3개로 묶기"
      ]
    },
    {
      "cell_type": "code",
      "execution_count": null,
      "metadata": {
        "id": "WoRQqhdoFQEZ",
        "outputId": "feee547d-f229-420b-e61d-da0f4ffafae8"
      },
      "outputs": [
        {
          "name": "stdout",
          "output_type": "stream",
          "text": [
            "'Python' is a \"programming language\"\n",
            "that lets you work quickly\n",
            "and\n",
            "integrate systems more effectively.\n",
            "\n"
          ]
        }
      ],
      "source": [
        "s = ''''Python' is a \"programming language\"\n",
        "that lets you work quickly\n",
        "and\n",
        "integrate systems more effectively.\n",
        "'''\n",
        "print(s)\n",
        "# 'Python' is a \"programming language\"\n",
        "# that lets you work quickly\n",
        "# and\n",
        "# integrate systems more effectively."
      ]
    },
    {
      "cell_type": "markdown",
      "metadata": {
        "id": "cw9JShz1FQEZ"
      },
      "source": [
        "#  10. 리스트와 튜플 사용하기\n",
        "\n",
        "## 10-심사문제\n",
        "\n",
        "1. 표준 입력으로 정수가 입력됩니다. range의 시작하는 숫자는 -10, 끝나는 숫자는 10이며 입력된 정수만큼 증가하는 숫자가 들어가도록 튜플을 만들고, 해당 튜플을 출력하는 프로그램을 만드세요(input에서 안내 문자열은 출력하지 않아야 합니다)."
      ]
    },
    {
      "cell_type": "code",
      "execution_count": null,
      "metadata": {
        "id": "VD2wzlGIFQEZ",
        "outputId": "afa5718a-48c4-4b23-9d42-752c1dc467d7"
      },
      "outputs": [
        {
          "name": "stdout",
          "output_type": "stream",
          "text": [
            "1\n",
            "(-10, -9, -8, -7, -6, -5, -4, -3, -2, -1, 0, 1, 2, 3, 4, 5, 6, 7, 8, 9)\n"
          ]
        }
      ],
      "source": [
        "a = int(input()) #정수형으로 바꿔줘야 range에 사용 가능\n",
        "print(tuple(range(-10, 10, a)))"
      ]
    },
    {
      "cell_type": "markdown",
      "metadata": {
        "id": "h5RqviWQFQEZ"
      },
      "source": [
        "# 11. 시퀀스 자료형 활용하기"
      ]
    },
    {
      "cell_type": "code",
      "execution_count": null,
      "metadata": {
        "id": "tcZjabwmFQEa",
        "outputId": "908f787b-3118-4a01-c07d-4a530649df10"
      },
      "outputs": [
        {
          "name": "stdout",
          "output_type": "stream",
          "text": [
            "[20, 50, 80]\n"
          ]
        }
      ],
      "source": [
        "a = [0, 10, 20, 30, 40, 50, 60, 70, 80, 90]\n",
        "print(a[2:9:3]) # 인덱스 2부터 3씩 증가시키면서 인덱스 8까지 가져옴\n",
        "#range는 연산자 사용 불가 "
      ]
    },
    {
      "cell_type": "markdown",
      "metadata": {
        "id": "xe7CguxKFQEa"
      },
      "source": [
        "## 11-심사문제\n",
        "\n",
        "1. 표준 입력으로 숫자 또는 문자열 여러 개가 입력되어 리스트 x에 저장됩니다(입력되는 숫자 또는 문자열의 개수는 정해져 있지 않음). 다음 소스 코드를 완성하여 리스트 x의 마지막 요소 5개를 삭제한 뒤 튜플로 출력되게 만드세요."
      ]
    },
    {
      "cell_type": "code",
      "execution_count": null,
      "metadata": {
        "id": "1AWC7Qp-FQEa",
        "outputId": "6813ce8a-95a4-4cfc-c6fb-6ca851888d0c"
      },
      "outputs": [
        {
          "name": "stdout",
          "output_type": "stream",
          "text": [
            "1 2 2 2 2 2 2 2 2 2 2 2 22 \n",
            "('1', '2', '2', '2', '2', '2', '2', '2')\n"
          ]
        }
      ],
      "source": [
        "x = input().split()\n",
        "del(x[-5:])\n",
        "print(tuple(x))"
      ]
    },
    {
      "cell_type": "markdown",
      "metadata": {
        "id": "XsvWDY7VFQEa"
      },
      "source": [
        "2. 표준 입력으로 문자열 두 개가 각 줄에 입력됩니다(문자열의 길이는 정해져 있지 않음). 첫 번째 문자열에서 인덱스가 홀수인 문자와 두 번째 문자열에서 인덱스가 짝수인 문자를 연결하여 출력하는 프로그램을 만드세요(input에서 안내 문자열은 출력하지 않아야 합니다). 연결 순서는 첫 번째 문자열, 두 번째 문자열 순입니다. 그리고 0은 짝수로 처리합니다."
      ]
    },
    {
      "cell_type": "code",
      "execution_count": null,
      "metadata": {
        "id": "b4mnCaHCFQEa",
        "outputId": "45e05780-1a80-43ad-c1fb-5a666c0187e1"
      },
      "outputs": [
        {
          "name": "stdout",
          "output_type": "stream",
          "text": [
            "1 2 3 4 5 \n",
            "1 2 3 4 5 6 \n",
            "     123456\n"
          ]
        }
      ],
      "source": [
        "a = input()\n",
        "b = input()\n",
        "print(a[1::2] + b[::2])\n",
        "#홀수 + 짝수"
      ]
    },
    {
      "cell_type": "markdown",
      "metadata": {
        "id": "yLbSUlA_FQEb"
      },
      "source": [
        "# 12.  딕셔너리 사용하기\n",
        "\n",
        "## 12-심사문제\n",
        "\n",
        "1. 표준 입력으로 문자열 여러 개와 숫자(실수) 여러 개가 두 줄로 입력됩니다. 입력된 첫 번째 줄은 키, 두 번째 줄은 값으로 하여 딕셔너리를 생성한 뒤 딕셔너리를 출력하는 프로그램을 만드세요. input().split()의 결과를 변수 한 개에 저장하면 리스트로 저장됩니다."
      ]
    },
    {
      "cell_type": "code",
      "execution_count": null,
      "metadata": {
        "id": "4APFAn2PFQEb",
        "outputId": "7516e3d7-8551-4b23-9ac3-78184372055b"
      },
      "outputs": [
        {
          "name": "stdout",
          "output_type": "stream",
          "text": [
            "1 1\n",
            "1\n",
            "{'1': 1.0}\n"
          ]
        }
      ],
      "source": [
        "#key=value형식으로 딕셔너리를 만들 땐 key에 따옴표를 사용하면 안됨\n",
        "\n",
        "a = input().split()\n",
        "b = map(float, input().split())\n",
        "print(dict(zip(a, b))) #zip: key 리스트와 value 리스트를 차례대로 묶음\n"
      ]
    },
    {
      "cell_type": "markdown",
      "metadata": {
        "id": "pxHWwNKjFQEb"
      },
      "source": [
        "# 13. If 조건문으로 특정 조건일 때 코드 실행하기\n",
        "\n",
        "## 13-심사문제\n",
        "\n",
        "1. 표준 입력으로 가격(정수)과 쿠폰 이름이 각 줄에 입력됩니다. Cash3000 쿠폰은 3,000원, Cash5000 쿠폰은 5,000원을 할인합니다. 쿠폰에 따라 할인된 가격을 출력하는 프로그램을 만드세요(input에서 안내 문자열은 출력하지 않아야 합니다)."
      ]
    },
    {
      "cell_type": "code",
      "execution_count": null,
      "metadata": {
        "id": "LXnPJaHQFQEb"
      },
      "outputs": [],
      "source": [
        "a = int(input())\n",
        "b = input()\n",
        "if b == 'Cash3000':\n",
        "    print(a-3000)\n",
        "elif b== 'Cash5000':\n",
        "    print(a-5000)"
      ]
    },
    {
      "cell_type": "markdown",
      "metadata": {
        "id": "BXS7GzwPFQEb"
      },
      "source": [
        "# 14. else를 사용하여 두 방향으로 분기하기\n",
        "\n",
        "## 14-심사문제\n",
        "\n",
        "1. 표준 입력으로 국어, 영어, 수학, 과학 점수가 입력됩니다. 여기서 네 과목의 평균 점수가 80점 이상일 때 합격이라고 정했습니다. 평균 점수에 따라 '합격', '불합격'을 출력하는 프로그램을 만드세요(input에서 안내 문자열은 출력하지 않아야 합니다). 단, 점수는 0점부터 100점까지만 입력받을 수 있으며 범위를 벗어났다면 '잘못된 점수'를 출력하고 합격, 불합격 여부는 출력하지 않아야 합니다."
      ]
    },
    {
      "cell_type": "code",
      "execution_count": null,
      "metadata": {
        "id": "d5lKvjndFQEb"
      },
      "outputs": [],
      "source": [
        "#조건식을 여러 개 지정할 때는 and, or 사용\n",
        "\n",
        "korean, english, math, science = map(int, input().split())\n",
        "(korean + english + math + science)/4 >= 80\n",
        "\n",
        "if korean < 0 or english < 0 or math < 0 or science < 0:\n",
        "    print('잘못된 점수')\n",
        "elif korean > 100 or english > 100 or math > 100 or science > 100:\n",
        "    print('잘못된 점수')\n",
        "elif (korean + english + math + science)/4 >= 80:\n",
        "    print('합격')\n",
        "else:\n",
        "    print('불합격')"
      ]
    },
    {
      "cell_type": "markdown",
      "metadata": {
        "id": "LASzOUTsFQEc"
      },
      "source": [
        "# 15. elif를 사용하여 여러 방향으로 분기하기\n",
        "\n",
        "## 15-심사문제\n",
        "\n",
        "1. 표준 입력으로 나이(만 나이)가 입력됩니다(입력 값은 7 이상 입력됨). 교통카드 시스템에서 시내버스 요금은 다음과 같으며 각 나이에 맞게 요금을 차감한 뒤 잔액이 출력되게 만드세요(if, elif 사용). 현재 교통카드에는 9,000원이 들어있습니다.\n",
        "\n",
        "<li>어린이(초등학생, 만 7세 이상 12세 이하): 650원\n",
        "<li>청소년(중∙고등학생, 만 13세 이상 18세 이하): 1,050원\n",
        "<li>어른(일반, 만 19세 이상): 1,250원"
      ]
    },
    {
      "cell_type": "code",
      "execution_count": null,
      "metadata": {
        "id": "jz-ZFqxrFQEc"
      },
      "outputs": [],
      "source": [
        "age = int(input())\n",
        "balance = 9000\n",
        "\n",
        "if age < 7: \n",
        "    print('나이를 다시 입력하세요')\n",
        "elif age < 13:\n",
        "    balance = balance-650\n",
        "elif age < 19:\n",
        "    balance = balance-1050\n",
        "else:\n",
        "    balance = balance-1250\n",
        "\n",
        "print(balance)"
      ]
    },
    {
      "cell_type": "markdown",
      "metadata": {
        "id": "hWaKmqk-FQEc"
      },
      "source": [
        "# 16. for 반복문으로 Hello, world! 100번 출력하기\n",
        "\n",
        "## 16-심사문제\n",
        "\n",
        "1. 표준 입력으로 정수가 입력됩니다. 입력된 정수의 구구단을 출력하는 프로그램을 만드세요(input에서 안내 문자열은 출력하지 않아야 합니다). 출력 형식은 숫자 * 숫자 = 숫자처럼 만들고 숫자와 *, = 사이는 공백을 한 칸 띄웁니다."
      ]
    },
    {
      "cell_type": "code",
      "execution_count": null,
      "metadata": {
        "id": "92n0d1xEFQEc",
        "outputId": "a111bd93-1336-4e09-fc77-ac6ac93f41d3"
      },
      "outputs": [
        {
          "name": "stdout",
          "output_type": "stream",
          "text": [
            "1 단\n",
            "1 * 1 = 1\n",
            "1 * 2 = 2\n",
            "1 * 3 = 3\n",
            "1 * 4 = 4\n",
            "1 * 5 = 5\n",
            "1 * 6 = 6\n",
            "1 * 7 = 7\n",
            "1 * 8 = 8\n",
            "1 * 9 = 9\n",
            "2 단\n",
            "2 * 1 = 2\n",
            "2 * 2 = 4\n",
            "2 * 3 = 6\n",
            "2 * 4 = 8\n",
            "2 * 5 = 10\n",
            "2 * 6 = 12\n",
            "2 * 7 = 14\n",
            "2 * 8 = 16\n",
            "2 * 9 = 18\n",
            "3 단\n",
            "3 * 1 = 3\n",
            "3 * 2 = 6\n",
            "3 * 3 = 9\n",
            "3 * 4 = 12\n",
            "3 * 5 = 15\n",
            "3 * 6 = 18\n",
            "3 * 7 = 21\n",
            "3 * 8 = 24\n",
            "3 * 9 = 27\n",
            "4 단\n",
            "4 * 1 = 4\n",
            "4 * 2 = 8\n",
            "4 * 3 = 12\n",
            "4 * 4 = 16\n",
            "4 * 5 = 20\n",
            "4 * 6 = 24\n",
            "4 * 7 = 28\n",
            "4 * 8 = 32\n",
            "4 * 9 = 36\n",
            "5 단\n",
            "5 * 1 = 5\n",
            "5 * 2 = 10\n",
            "5 * 3 = 15\n",
            "5 * 4 = 20\n",
            "5 * 5 = 25\n",
            "5 * 6 = 30\n",
            "5 * 7 = 35\n",
            "5 * 8 = 40\n",
            "5 * 9 = 45\n",
            "6 단\n",
            "6 * 1 = 6\n",
            "6 * 2 = 12\n",
            "6 * 3 = 18\n",
            "6 * 4 = 24\n",
            "6 * 5 = 30\n",
            "6 * 6 = 36\n",
            "6 * 7 = 42\n",
            "6 * 8 = 48\n",
            "6 * 9 = 54\n",
            "7 단\n",
            "7 * 1 = 7\n",
            "7 * 2 = 14\n",
            "7 * 3 = 21\n",
            "7 * 4 = 28\n",
            "7 * 5 = 35\n",
            "7 * 6 = 42\n",
            "7 * 7 = 49\n",
            "7 * 8 = 56\n",
            "7 * 9 = 63\n",
            "8 단\n",
            "8 * 1 = 8\n",
            "8 * 2 = 16\n",
            "8 * 3 = 24\n",
            "8 * 4 = 32\n",
            "8 * 5 = 40\n",
            "8 * 6 = 48\n",
            "8 * 7 = 56\n",
            "8 * 8 = 64\n",
            "8 * 9 = 72\n",
            "9 단\n",
            "9 * 1 = 9\n",
            "9 * 2 = 18\n",
            "9 * 3 = 27\n",
            "9 * 4 = 36\n",
            "9 * 5 = 45\n",
            "9 * 6 = 54\n",
            "9 * 7 = 63\n",
            "9 * 8 = 72\n",
            "9 * 9 = 81\n"
          ]
        }
      ],
      "source": [
        "# a = int(input())\n",
        "\n",
        "for a in range(1,10):\n",
        "    print(a, end=' ')\n",
        "    print('단')\n",
        "    for i in range(1, 10):\n",
        "        print(f'{a} * {i} = {a*i}')"
      ]
    },
    {
      "cell_type": "markdown",
      "metadata": {
        "id": "Ic_ufRIrFQEc"
      },
      "source": [
        "# 17. while 반복문으로 Hello, world! 100번 출력하기\n",
        "\n",
        "## 17-심사문제\n",
        "\n",
        "1. 표준 입력으로 금액(정수)이 입력됩니다. 1회당 요금은 1,350원이고, 교통카드를 사용했을 때마다의 잔액을 각 줄에 출력하는 프로그램을 만드세요(input에서 안내 문자열은 출력하지 않아야 합니다). 단, 최초 금액은 출력하지 않아야 합니다. 그리고 잔액은 음수가 될 수 없으며 잔액이 부족하면 출력을 끝냅니다."
      ]
    },
    {
      "cell_type": "code",
      "execution_count": null,
      "metadata": {
        "id": "sI-p0wyPFQEc"
      },
      "outputs": [],
      "source": [
        "a = int(input())\n",
        "\n",
        "while a >= 1350:\n",
        "    a = a - 1350\n",
        "    print(a)"
      ]
    },
    {
      "cell_type": "markdown",
      "metadata": {
        "id": "pyiANPTEFQEc"
      },
      "source": [
        "# 18. break, continue로 반복문 제어하기\n",
        "\n",
        "## 18-심사문제\n",
        "\n",
        "1. 표준 입력으로 정수 두 개가 입력됩니다(첫 번째 입력 값의 범위는 1-200, 두 번째 입력 값의 범위는 10-200이며 첫 번째 입력 값은 두 번째 입력 값보다 항상 작습니다). 다음 소스 코드를 완성하여 첫 번째 정수와 두 번째 정수 사이의 숫자 중 3으로 끝나지 않는 숫자가 출력되게 만드세요. 정답에 코드를 작성할 때는 while True:에 맞춰서 들여쓰기를 해주세요."
      ]
    },
    {
      "cell_type": "code",
      "execution_count": null,
      "metadata": {
        "id": "_30DcqlzFQEd",
        "outputId": "f937326c-8e71-4531-a00a-4f877830545d"
      },
      "outputs": [
        {
          "name": "stdout",
          "output_type": "stream",
          "text": [
            "1 20\n",
            "1 2 4 5 6 7 8 9 10 11 12 14 15 16 17 18 19 20 "
          ]
        }
      ],
      "source": [
        "start, stop = map(int, input().split())\n",
        " \n",
        "i = start\n",
        " \n",
        "while True:\n",
        "    if i % 10 == 3:\n",
        "        i += 1\n",
        "        continue\n",
        "    if i > stop:\n",
        "        break\n",
        "    print(i, end=' ')\n",
        "    i += 1"
      ]
    },
    {
      "cell_type": "markdown",
      "metadata": {
        "id": "Bj-sS30AFQEd"
      },
      "source": [
        "# 19. 계단식으로 별 출력하기\n",
        "\n",
        "## 19-심사문제\n",
        "\n",
        "1. 표준 입력으로 삼각형의 높이가 입력됩니다. 입력된 높이만큼 산 모양으로 별을 출력하는 프로그램을 만드세요(input에서 안내 문자열은 출력하지 않아야 합니다). 이때 출력 결과는 예제와 정확히 일치해야 합니다. 모양이 같더라도 공백이나 빈 줄이 더 들어가면 틀린 것으로 처리됩니다."
      ]
    },
    {
      "cell_type": "code",
      "execution_count": null,
      "metadata": {
        "id": "zLrGkerMFQEd",
        "outputId": "0c7ef003-3eef-4a66-d977-d7ba5a5e27c6"
      },
      "outputs": [
        {
          "name": "stdout",
          "output_type": "stream",
          "text": [
            "  *\n",
            " ***\n",
            "*****\n",
            " ***\n",
            "  *\n",
            "  *\n",
            " ***\n",
            "*****\n"
          ]
        }
      ],
      "source": [
        "# a = int(input())\n",
        "\n",
        "# for i in range(a):\n",
        "#     for j in range(a):\n",
        "#         if j <= i:\n",
        "#             print('*', end='')\n",
        "#     print()\n",
        "\n",
        "# for i in range(1, a+1):\n",
        "#     for j in range(1):\n",
        "#         print(' '*(a-i), end='')\n",
        "#         print('*'*(i*2-1), end='')\n",
        "#     print()\n",
        "# for i in range(1, a+1):\n",
        "#     for j in range(1):\n",
        "#         print(' '*(i), end='')\n",
        "#         print('*'*((a-i)*2-1), end='')\n",
        "#     print()\n",
        "\n",
        "    \n",
        "# # input(5)\n",
        "# # 4(5-1) + 1(1*2-1)\n",
        "# # 3(5-2) + 3(2*2-1)\n",
        "# # 2(5-3) + 5(3*2-1)\n",
        "# # 1(5-4) + 7(4*2-1)\n",
        "# # 0(5-5) + 9(5*2-1)\n",
        "# # 1 + 7((5-1)*2-1)\n",
        "# # 2 + 5((5-2)*2-1)\n",
        "# # 3 + 3((5-3)*2-1)\n",
        "# # 4 + 1((5-4)*2-1)\n",
        "a = 3    \n",
        "#reversed, 부등호 설명하고 \n",
        "for i in range(a): #0, 1, 2\n",
        "    for j in reversed(range(a)): #2, 1, 0\n",
        "        if j > i:\n",
        "            print(' ', end='')\n",
        "        else:\n",
        "            print('*', end='') #공백 둘 별 하나 \n",
        "    for j in range(a): #0, 1, 2\n",
        "        if j < i:\n",
        "            print('*', end='')\n",
        "    print() \n",
        "for i in range(1,a):\n",
        "    for j in range(a):\n",
        "        if j < i:\n",
        "            print(' ', end='')\n",
        "        else:\n",
        "            print('*', end='')\n",
        "    for j in reversed(range(a)):\n",
        "        if j > i:\n",
        "            print('*', end='')\n",
        "    print()    \n",
        "\n",
        "# input(5)\n",
        "# 4(5-1) + 1(1*2-1)\n",
        "# 3(5-2) + 3(2*2-1)\n",
        "# 2(5-3) + 5(3*2-1)\n",
        "# 1(5-4) + 7(4*2-1)\n",
        "# 0(5-5) + 9(5*2-1)\n",
        "\n",
        "# 2(3-1)/1(2*1-1)\n",
        "# 1(3-2)/3(2*2-1)\n",
        "# 0(3-3)/5(2*3-1)\n",
        "for i in range(1, a+1):\n",
        "    for j in range(1):\n",
        "        print(' '*(a-i), end='')\n",
        "        print('*'*(i*2-1), end='')\n",
        "    print()\n",
        "\n",
        "for i in range(a): #0, 1, 2\n",
        "    for j in reversed(range(a)): #2, 1, 0\n",
        "        if j > i:\n",
        "            print(' ', end='')\n",
        "        else:\n",
        "            print('*', end='') #공백 둘 별 하나 \n",
        "    for j in range(a): #0, 1, 2\n",
        "        if j < i:\n",
        "            print('*', end='')\n",
        "    print()     "
      ]
    },
    {
      "cell_type": "markdown",
      "metadata": {
        "id": "josw90sSFQEd"
      },
      "source": [
        "# 20. FizzBuzz 문제\n",
        "\n",
        "## 20-심사문제\n",
        "\n",
        "1. 표준 입력으로 정수 두 개가 입력됩니다(첫 번째 입력 값의 범위는 1-1000, 두 번째 입력 값의 범위는 10-1000이며 첫 번째 입력 값은 두 번째 입력 값보다 항상 작습니다). 첫 번째 정수부터 두 번째 정수까지 숫자를 출력하면서 5의 배수일 때는 'Fizz', 7의 배수일 때는 'Buzz', 5와 7의 공배수일 때는 'FizzBuzz'를 출력하는 프로그램을 만드세요(input에서 안내 문자열은 출력하지 않아야 합니다)."
      ]
    },
    {
      "cell_type": "code",
      "execution_count": null,
      "metadata": {
        "id": "0QlPcPWxFQEd",
        "outputId": "c805848f-dcfa-4ca6-f116-a72f1e711bca"
      },
      "outputs": [
        {
          "name": "stdout",
          "output_type": "stream",
          "text": [
            "1 35\n",
            "1\n",
            "2\n",
            "3\n",
            "4\n",
            "Fizz\n",
            "6\n",
            "Buzz\n",
            "8\n",
            "9\n",
            "Fizz\n",
            "11\n",
            "12\n",
            "13\n",
            "Buzz\n",
            "Fizz\n",
            "16\n",
            "17\n",
            "18\n",
            "19\n",
            "Fizz\n",
            "Buzz\n",
            "22\n",
            "23\n",
            "24\n",
            "Fizz\n",
            "26\n",
            "27\n",
            "Buzz\n",
            "29\n",
            "Fizz\n",
            "31\n",
            "32\n",
            "33\n",
            "34\n",
            "FizzBuzz\n"
          ]
        }
      ],
      "source": [
        "# 문자열 * True = True(문자열 출력)\n",
        "# 문자열 * False = False(빈 문자열 출력)\n",
        "# '' + '' = ''\n",
        "start, stop = map(int, input().split())\n",
        "\n",
        "for i in range(start, stop+1):\n",
        "    print('Fizz' * (i % 5 == 0) + 'Buzz' * (i % 7 == 0) or i)\n",
        "\n",
        "for i in range(1, 20):\n",
        "    if i % 2 == 0 and i % 3 == 0:\n",
        "        print(FizzBuzz)\n",
        "    elif i%2 == 0:\n",
        "        print(Fizz)\n",
        "    elif i%3 == 0:\n",
        "        print(Buzz)"
      ]
    },
    {
      "cell_type": "markdown",
      "metadata": {
        "id": "E2XciEIHFQEd"
      },
      "source": [
        "# 21. 터틀 그래픽스로 그림 그리기\n",
        "\n",
        "## 21-심사문제\n",
        "\n",
        "1. 표준 입력으로 꼭지점 개수(정수)와 선의 길이(정수)가 입력됩니다(꼭지점 개수의 입력 범위는 5-10, 선의 길이 입력 범위는 50-150입니다). 다음 소스 코드를 완성하여 꼭지점 개수와 선의 길이에 맞는 별이 그려지게 만드세요. 별을 그릴 때는 현재 위치부터 오른쪽으로 이동해서 시작해야 하며 시계 방향으로 그려야 합니다."
      ]
    },
    {
      "cell_type": "code",
      "execution_count": null,
      "metadata": {
        "id": "Htj_H5ZgFQEe"
      },
      "outputs": [],
      "source": [
        "import turtle as t\n",
        "t.shape('turtle')\n",
        "n, line = map(int, input().split())\n",
        "\n",
        "\n",
        "# 앞으로 이동: forward, fd(거리)\n",
        "# 뒤로 이동: backward, bk(거리)\n",
        "# 왼쪽으로 회전: left, lt(각도)\n",
        "# 오른쪽으로 회전: right, rt(거리)\n",
        "# 색깔 변환: color\n",
        "# 색칠: begin_fill/end_fill\n",
        "# 원: circle(반지름)\n",
        "# 속도: speed(fastest, 0.5~10)\n",
        "\n",
        "for i in range(n):\n",
        "    t.fd(line)\n",
        "    t.rt(360/n * 2)\n",
        "    t.fd(line)\n",
        "    t.lt(360/n)\n",
        "t.mainloop()"
      ]
    },
    {
      "cell_type": "markdown",
      "metadata": {
        "id": "4lHvx-vQFQEe"
      },
      "source": [
        "# 22. 리스트와 튜플 응용하기\n",
        "\n",
        "## 22-심사문제\n",
        "\n",
        "1. 표준 입력으로 정수 두 개가 입력됩니다(첫 번째 입력 값의 범위는 1-20, 두 번째 입력 값의 범위는 10-30이며 첫 번째 입력 값은 두 번째 입력 값보다 항상 작습니다). 첫 번째 정수부터 두 번째 정수까지를 지수로 하는 2의 거듭제곱 리스트를 출력하는 프로그램을 만드세요(input에서 안내 문자열은 출력하지 않아야 합니다). 단, 리스트의 두 번째 요소와 뒤에서 두 번째 요소는 삭제한 뒤 출력하세요. 출력 결과는 리스트 형태라야 합니다."
      ]
    },
    {
      "cell_type": "code",
      "execution_count": null,
      "metadata": {
        "id": "Oubf-M7NFQEe",
        "outputId": "4fd076be-37d5-4690-ff8f-85c6ef411a32"
      },
      "outputs": [
        {
          "name": "stdout",
          "output_type": "stream",
          "text": [
            "1 10\n",
            "[2, 8, 16, 32, 64, 128, 256, 1024]\n",
            "[2, 8, 16, 32, 64, 128, 256, 1024]\n"
          ]
        }
      ],
      "source": [
        "# append: 요소 하나를 추가 == a.insert(len(리스트), 요소) == 리스트[len(리스트):] = [요소]\n",
        "# extend: 리스트를 연결하여 확장\n",
        "# insert(index, value): 특정 인덱스에 요소 추가\n",
        "# pop: 마지막 요소 또는 특정 인덱스의 요소를 삭제\n",
        "# remove: 특정 값을 찾아서 삭제\n",
        "# index: 인덱스 구하기\n",
        "# count: 값의 개수 구하기 \n",
        "# reverse: 순서 뒤집기\n",
        "# sort: 요소 정렬(defalut: 오름차순, reverse=True: 내림차순)\n",
        "# clear: 모든 요소 삭제\n",
        "# for index, value in enumerate(a): 인덱스와 요소 동시 출력\n",
        "# 튜플은 내용 변경 불가능\n",
        "# **: 거듭제곱\n",
        "\n",
        "start, stop = map(int, input().split())\n",
        "m = 1\n",
        "a = []\n",
        "for i in range(1, stop+1):\n",
        "    if i < start:\n",
        "        m = m * 2\n",
        "        continue\n",
        "    elif i >= start and i <= stop:\n",
        "        m = m * 2\n",
        "        a.append(m)\n",
        "    else:\n",
        "        break\n",
        "a.remove(a[1])\n",
        "a.remove(a[-2])\n",
        "print(a)\n",
        "\n",
        "\n",
        "b = list(map(int, [2 ** i for i in range(start, stop + 1)]))\n",
        "b.remove(b[1])\n",
        "b.remove(b[-2])\n",
        "print(b)\n"
      ]
    },
    {
      "cell_type": "markdown",
      "metadata": {
        "id": "9dGPpKR4FQEe"
      },
      "source": [
        "# 23.  2차원 리스트 사용하기\n",
        "\n",
        "## 23-심사문제\n",
        "\n",
        "1. 표준 입력으로 2차원 리스트의 가로(col)와 세로(row)가 입력되고 그 다음 줄부터 리스트의 요소로 들어갈 문자가 입력됩니다. 이때 2차원 리스트 안에서 *는 지뢰이고 .은 지뢰가 아닙니다. 지뢰가 아닌 요소에는 인접한 지뢰의 개수를 출력하는 프로그램을 만드세요(input에서 안내 문자열은 출력하지 않아야 합니다)."
      ]
    },
    {
      "cell_type": "code",
      "execution_count": null,
      "metadata": {
        "id": "IAnQhgYdFQEe",
        "outputId": "cd5fb790-989e-43c1-dd14-29619b626e58"
      },
      "outputs": [
        {
          "name": "stdout",
          "output_type": "stream",
          "text": [
            "10\n",
            "20\n",
            "30\n",
            "40\n",
            "50\n",
            "60\n",
            "2 2\n",
            "2\n",
            "2\n",
            "[['2'], ['2']]\n"
          ]
        }
      ],
      "source": [
        "# 2차원 list 정렬하기: sorted(list, key=lambda list: list[index])\n",
        "# import copy\n",
        "# deepcopy(a) #2차원 리스트 복사\n",
        "\n",
        "a = [[10, 20],\n",
        "     [30, 40],\n",
        "     [50, 60] ]\n",
        "b = [[10, 20],\n",
        "     [500, 600, 700],\n",
        "     [9],\n",
        "     [30, 40],\n",
        "     [8],\n",
        "     [800, 900, 1000]]\n",
        "\n",
        "for i in a: #2차원 리스트의 모든 요소 출력하기 \n",
        "    for j in i:\n",
        "        print(j)\n",
        "        \n"
      ]
    },
    {
      "cell_type": "code",
      "execution_count": null,
      "metadata": {
        "scrolled": true,
        "id": "H7BIzZQZFQEe",
        "outputId": "19f867e6-64c3-4fcc-f187-ecc5ad9a95cf"
      },
      "outputs": [
        {
          "name": "stdout",
          "output_type": "stream",
          "text": [
            "3 3\n",
            "[[2, '*', '*'], [3, '*', 4], [2, '*', 2]]\n"
          ]
        }
      ],
      "source": [
        "import random\n",
        "\n",
        "c, r = map(int, input().split())        \n",
        "\n",
        "matrix = []\n",
        "for i in range(r):\n",
        "    matrix.append(list(map(int, [random.randrange(0,2) for j in range(c)])))\n",
        "\n",
        "for i in range(len(matrix)):\n",
        "    for j in range(len(matrix[i])):\n",
        "        if matrix[i][j] == 1:\n",
        "            matrix[i][j] = '*'\n",
        "        else: \n",
        "            matrix[i][j] = '.'\n",
        "\n",
        "result = []\n",
        "for i in range(r):\n",
        "    result.append(list(map(int, [0 for j in range(c)])))\n",
        "\n",
        "for i in range(r):\n",
        "    for j in range(len(matrix[i])):   \n",
        "        if matrix[i][j] == '*':\n",
        "            result[i][j] = '*'\n",
        "\n",
        "\n",
        "for i in range(1,len(matrix)-1): #56분 40초 걸림...\n",
        "    for j in range(1, len(matrix[i])-1):\n",
        "        if result[i][j] == 0:\n",
        "            if matrix[i][j] == '.':\n",
        "                if matrix[i-1][j-1] == '*':\n",
        "                    result[i][j] = result[i][j] + 1 \n",
        "                if matrix[i][j-1] == '*':\n",
        "                    result[i][j] = result[i][j] + 1                 \n",
        "                if matrix[i+1][j-1] == '*':\n",
        "                    result[i][j] = result[i][j] + 1   \n",
        "                if matrix[i-1][j] == '*':\n",
        "                    result[i][j] = result[i][j] + 1 \n",
        "                if matrix[i+1][j] == '*':\n",
        "                    result[i][j] = result[i][j] + 1 \n",
        "                if matrix[i-1][j+1] == '*':\n",
        "                    result[i][j] = result[i][j] + 1 \n",
        "                if matrix[i][j+1] == '*':\n",
        "                    result[i][j] = result[i][j] + 1 \n",
        "                if matrix[i+1][j+1] == '*':\n",
        "                    result[i][j] = result[i][j] + 1\n",
        "                    \n",
        "# 가장자리 \n",
        "for i in range(len(matrix)):\n",
        "    for j in range(len(matrix[i])):\n",
        "        if result[i][j] == 0:\n",
        "            if matrix[i][j] == '.' and i == 0 and j == 0: #왼쪽 위\n",
        "                if matrix[i][j+1] == '*':\n",
        "                    result[i][j] = result[i][j] + 1 \n",
        "                if matrix[i+1][j+1] == '*':\n",
        "                    result[i][j] = result[i][j] + 1\n",
        "                if matrix[i+1][j] == '*':\n",
        "                    result[i][j] = result[i][j] + 1\n",
        "            elif matrix[i][j] == '.' and i == 0 and j < c-1: #위\n",
        "                if matrix[i][j-1] == '*':\n",
        "                    result[i][j] = result[i][j] + 1                 \n",
        "                if matrix[i+1][j-1] == '*':\n",
        "                    result[i][j] = result[i][j] + 1   \n",
        "                if matrix[i+1][j] == '*':\n",
        "                    result[i][j] = result[i][j] + 1 \n",
        "                if matrix[i][j+1] == '*':\n",
        "                    result[i][j] = result[i][j] + 1 \n",
        "                if matrix[i+1][j+1] == '*':\n",
        "                    result[i][j] = result[i][j] + 1\n",
        "            elif matrix[i][j] == '.' and i == 0 and j == c-1: #오른쪽 위\n",
        "                if matrix[i][j-1] == '*':\n",
        "                    result[i][j] = result[i][j] + 1                 \n",
        "                if matrix[i+1][j-1] == '*':\n",
        "                    result[i][j] = result[i][j] + 1   \n",
        "                if matrix[i+1][j] == '*':\n",
        "                    result[i][j] = result[i][j] + 1 \n",
        "            elif matrix[i][j] == '.' and i < r-1 and j == c-1: #오른쪽\n",
        "                if matrix[i-1][j-1] == '*':\n",
        "                    result[i][j] = result[i][j] + 1 \n",
        "                if matrix[i][j-1] == '*':\n",
        "                    result[i][j] = result[i][j] + 1                 \n",
        "                if matrix[i+1][j-1] == '*':\n",
        "                    result[i][j] = result[i][j] + 1   \n",
        "                if matrix[i-1][j] == '*':\n",
        "                    result[i][j] = result[i][j] + 1 \n",
        "                if matrix[i+1][j] == '*':\n",
        "                    result[i][j] = result[i][j] + 1 \n",
        "            elif matrix[i][j] == '.' and i == r-1 and j == c-1: #오른쪽 아래\n",
        "                if matrix[i-1][j-1] == '*':\n",
        "                    result[i][j] = result[i][j] + 1 \n",
        "                if matrix[i][j-1] == '*':\n",
        "                    result[i][j] = result[i][j] + 1                  \n",
        "                if matrix[i-1][j] == '*':\n",
        "                    result[i][j] = result[i][j] + 1 \n",
        "            elif matrix[i][j] == '.' and i == r-1 and j < c-1 and j != 0: #아래\n",
        "                if matrix[i-1][j-1] == '*':\n",
        "                    result[i][j] = result[i][j] + 1 \n",
        "                if matrix[i][j-1] == '*':\n",
        "                    result[i][j] = result[i][j] + 1                 \n",
        "                if matrix[i-1][j] == '*':\n",
        "                    result[i][j] = result[i][j] + 1 \n",
        "                if matrix[i-1][j+1] == '*':\n",
        "                    result[i][j] = result[i][j] + 1 \n",
        "                if matrix[i][j+1] == '*':\n",
        "                    result[i][j] = result[i][j] + 1 \n",
        "            elif matrix[i][j] == '.' and i == r-1 and j == 0: #왼쪽 아래                \n",
        "                if matrix[i-1][j] == '*':\n",
        "                    result[i][j] = result[i][j] + 1 \n",
        "                if matrix[i-1][j+1] == '*':\n",
        "                    result[i][j] = result[i][j] + 1 \n",
        "                if matrix[i][j+1] == '*':\n",
        "                    result[i][j] = result[i][j] + 1\n",
        "            elif matrix[i][j] == '.' and i < r-1 and j == 0: #왼쪽                 \n",
        "                if matrix[i-1][j] == '*':\n",
        "                    result[i][j] = result[i][j] + 1 \n",
        "                if matrix[i+1][j] == '*':\n",
        "                    result[i][j] = result[i][j] + 1 \n",
        "                if matrix[i-1][j+1] == '*':\n",
        "                    result[i][j] = result[i][j] + 1 \n",
        "                if matrix[i][j+1] == '*':\n",
        "                    result[i][j] = result[i][j] + 1 \n",
        "                if matrix[i+1][j+1] == '*':\n",
        "                    result[i][j] = result[i][j] + 1\n",
        "\n",
        "\n",
        "\n",
        "# for i in range(len(matrix)): \n",
        "#     for j in range(len(matrix[i])):\n",
        "#         if result[i][j] == 0:\n",
        "#             if matrix[i][j] == '.':\n",
        "#                 for y in range(i - 1, i + 2): # 한 칸 위부터 한 칸 아래까지 반복\n",
        "#                     for x in range(j -1, j + 2): # 한 칸 앞(왼쪽)부터 한 칸 뒤(오른쪽)까지 반복\n",
        "#                         if y < 0 or x < 0 or y >= r or x >= c: # 리스트의 범위를 벗어나면 건너뛰기\n",
        "#                             continue\n",
        "#                         elif matrix[y][x] == '*':\n",
        "#                             result[i][j] += 1\n",
        "                    \n",
        "print(result)"
      ]
    },
    {
      "cell_type": "markdown",
      "metadata": {
        "id": "IQm8WV37FQEf"
      },
      "source": [
        "# 24. 문자열 응용하기\n",
        "\n",
        "## 24-심사문제\n",
        "\n",
        "1. 표준 입력으로 문자열이 입력됩니다. 입력된 문자열에서 'the'의 개수를 출력하는 프로그램을 만드세요(input에서 안내 문자열은 출력하지 않아야 합니다). 단, 모든 문자가 소문자인 'the'만 찾으면 되며 'them', 'there', 'their' 등은 포함하지 않아야 합니다."
      ]
    },
    {
      "cell_type": "code",
      "execution_count": null,
      "metadata": {
        "id": "GwyaB3TDFQEf",
        "outputId": "0f49d117-91a6-439d-da72-56ae38f89142"
      },
      "outputs": [
        {
          "name": "stdout",
          "output_type": "stream",
          "text": [
            "the grown-ups' response, this time, was to advise me to lay aside my drawings of boa constrictors, whether from the inside or the outside, and devote myself instead to geography, history, arithmetic, and grammar. That is why, at the, age of six, I gave up what might have been a magnificent career as a painter. I had been disheartened by the failure of my Drawing Number One and my Drawing Number Two. Grown-ups never understand anything by themselves, and it is tiresome for children to be always and forever explaining things to the.\n",
            "6\n"
          ]
        }
      ],
      "source": [
        "# replace('바꿀 문자열', '새 문자열'): 문자열 바꾸기\n",
        "# split('기준문자열'): 문자열 분리하기 \n",
        "# join('기준문자열'): 문자열 연결하기 \n",
        "# upper/lower: 소문자를 대문자로/대문자를 소문자로\n",
        "# lstrip/rstrip/strip('삭제할 문자들'): 좌/우/양쪽 특정 문자 삭제하기\n",
        "# ljust/rjust(길이): 문자열을 왼쪽/오른쪽 정렬\n",
        "# center(길이): 가운데 정렬\n",
        "# zfill(길이): 문자열 왼쪽에 '0'삽입\n",
        "# find/rfind('찾을 문자열'): 문자열을 왼쪽/오른쪽부터 찾아 index출력(없으면 '-1'출력)\n",
        "# index/rindex('찾을 문자열'): 문자열을 왼쪽/오른쪽부터 찾아 index출력(없으면 error)\n",
        "# count('문자열'): 특정 문자열이 몇 번 나오는가\n",
        "b = input().split()\n",
        "count = 0\n",
        "for i in b:\n",
        "    if i == 'the':\n",
        "        count = count + 1\n",
        "    else:\n",
        "        i = i.strip('.') \n",
        "        i = i.strip(',') \n",
        "        if i == 'the':\n",
        "            count = count + 1\n",
        "print(count)"
      ]
    },
    {
      "cell_type": "markdown",
      "metadata": {
        "id": "JF3dh6T8FQEf"
      },
      "source": [
        "2. 표준 입력으로 물품 가격 여러 개가 문자열 한 줄로 입력되고, 각 가격은 ;(세미콜론)으로 구분되어 있습니다. 입력된 가격을 높은 가격순으로 출력하는 프로그램을 만드세요(input에서 안내 문자열은 출력하지 않아야 합니다). 이때 가격은 길이를 9로 만든 뒤 오른쪽으로 정렬하고 천단위로 ,(콤마)를 넣으세요."
      ]
    },
    {
      "cell_type": "code",
      "execution_count": null,
      "metadata": {
        "id": "RRm0sEwUFQEf",
        "outputId": "bdcfbc1b-6a87-4dc9-d748-d25471fe5440"
      },
      "outputs": [
        {
          "name": "stdout",
          "output_type": "stream",
          "text": [
            "51900;83000;158000;367500;250000;59200;128500;1304000\n",
            "1,304,000\n",
            "  367,500\n",
            "  250,000\n",
            "  158,000\n",
            "  128,500\n",
            "   83,000\n",
            "   59,200\n",
            "   51,900\n"
          ]
        }
      ],
      "source": [
        "# a = input().split(';')\n",
        "\n",
        "# b = []\n",
        "# for i in a:\n",
        "#     i = int(i)\n",
        "#     b.append(i)\n",
        "\n",
        "# b = sorted(b, reverse=True)\n",
        "\n",
        "# for i in b:\n",
        "#     i = format(i,',')\n",
        "#     print(i)\n",
        "    \n",
        "a = map(int, input().split(';'))\n",
        "a = sorted(a, reverse=True)\n",
        "for i in a:\n",
        "    i = format(i, ',')\n",
        "    i = i.rjust(9)\n",
        "    print(i)"
      ]
    },
    {
      "cell_type": "markdown",
      "metadata": {
        "id": "sj2YONdXFQEf"
      },
      "source": [
        "# 25. 딕셔너리 응용하기\n",
        "\n",
        "## 25-심사문제\n",
        "\n",
        "1. 표준 입력으로 문자열 여러 개와 숫자 여러 개가 두 줄로 입력되고, 첫 번째 줄은 키, 두 번째 줄은 값으로 하여 딕셔너리를 생성합니다. 다음 코드를 완성하여 딕셔너리에서 키가 'delta'인 키-값 쌍과 값이 30인 키-값 쌍을 삭제하도록 만드세요."
      ]
    },
    {
      "cell_type": "code",
      "execution_count": null,
      "metadata": {
        "id": "uTZBidpVFQEf",
        "outputId": "4463b568-1b1b-4548-efa9-251ccbb52ef3"
      },
      "outputs": [
        {
          "name": "stdout",
          "output_type": "stream",
          "text": [
            "alpha bravo charlie delta\n",
            "10 20 30 40\n",
            "{'alpha': 10, 'bravo': 20, 'charlie': 30}\n",
            "{'alpha': 10, 'bravo': 20, 'charlie': 30}\n",
            "{'alpha': 10, 'bravo': 20}\n"
          ]
        }
      ],
      "source": [
        "# setdefault(키, 값): 키-값 쌍 추가(키만 지정하면 값에 None 저장)\n",
        "# update(키=값): 키의 값 수정, 키가 없으면 키-값 쌍 추가\n",
        "# pop(키, 기본값): 키-값 쌍을 삭제한 뒤 삭제한 값(기본값) 반환\n",
        "# popitem(): 마지막 키-값 쌍을 삭제한 뒤 삭제한 키-값 쌍을 튜플로 반환\n",
        "# clear(): 딕셔너리의 모든 키-값 쌍 삭제\n",
        "# get(키, 기본값): 특정 키의 값 가져오기(키가 없으면 기본값 반환)\n",
        "# items: 키-값 쌍을 모두 가져옴\n",
        "# keys: 키를 모두 가져옴\n",
        "# values: 값을 모두 가져옴\n",
        "# dict.fromkeys(키리스트, 값): 키 리스트로 딕셔너리 생성(값은 키의 값으로 저장)\n",
        "\n",
        "keys = input().split()\n",
        "values = map(int, input().split())\n",
        " \n",
        "x = dict(zip(keys, values))\n",
        "\n",
        "for key, value in list(x.items()): #list로 안 만들면 객체 길이 안 맞는다고 오류 뜸 \n",
        "    if key == 'delta':\n",
        "        del x[key]\n",
        "    if value == 30:\n",
        "        del x[key]\n",
        "    print(x)\n"
      ]
    },
    {
      "cell_type": "markdown",
      "metadata": {
        "id": "3ybx75vHFQEg"
      },
      "source": [
        "# 26. 세트 사용하기\n",
        "\n",
        "## 26-심사문제\n",
        "\n",
        "1. 표준 입력으로 양의 정수 두 개가 입력됩니다. 다음 소스 코드를 완성하여 두 숫자의 공약수를 세트 형태로 구하도록 만드세요. 단, 최종 결과는 공약수의 합으로 판단합니다."
      ]
    },
    {
      "cell_type": "code",
      "execution_count": null,
      "metadata": {
        "id": "mew8D6d4FQEg",
        "outputId": "d50788d7-2da1-4546-9c90-da16621cf312"
      },
      "outputs": [
        {
          "name": "stdout",
          "output_type": "stream",
          "text": [
            "10 20\n",
            "{1, 2, 10, 5}\n",
            "{1, 2, 4, 5, 10, 20}\n",
            "{1, 2, 10, 5}\n",
            "18\n"
          ]
        }
      ],
      "source": [
        "start, stop = map(int, input().split())\n",
        "a = set()\n",
        "b = set()\n",
        "for i in range(1, start+1):\n",
        "    if start % i == 0:\n",
        "        a.add(i)\n",
        "\n",
        "for i in range(1, stop+1):\n",
        "    if stop % i == 0:\n",
        "        b.add(i)   \n",
        "        \n",
        "print(a)\n",
        "print(b)\n",
        "divisor = a & b\n",
        "print(divisor)\n",
        "result = 0\n",
        "if type(divisor) == set:\n",
        "    result = sum(divisor)\n",
        " \n",
        "print(result)"
      ]
    },
    {
      "cell_type": "markdown",
      "metadata": {
        "id": "mZLRj5jQFQEg"
      },
      "source": [
        "# 27. 파일 사용하기\n",
        "\n",
        "## 27-심사문제\n",
        "\n",
        "1. 문자열이 저장된 words.txt 파일이 주어집니다(문자열은 한 줄로 저장되어 있습니다). words.txt 파일에서 문자 c가 포함된 단어를 각 줄에 출력하는 프로그램을 만드세요. 단어를 출력할 때는 등장한 순서대로 출력해야 하며 ,(콤마)와 .(점)은 출력하지 않아야 합니다."
      ]
    },
    {
      "cell_type": "code",
      "execution_count": null,
      "metadata": {
        "id": "M1W-rrYWFQEg",
        "outputId": "6ac08767-2463-4033-befb-6c9f28a8cf40"
      },
      "outputs": [
        {
          "name": "stdout",
          "output_type": "stream",
          "text": [
            "Fortunately, however, for the reputation of Asteroid B-612, a Turkish dictator made a law that his subjects, under pain of death, should change to European costume. So in 1920 the astronomer gave his demonstration all over again, dressed with impressive style and elegance. And this time everybody accepted his report.\n",
            "dictator\n",
            "subjects\n",
            "change\n",
            "costume\n",
            "elegance\n",
            "accepted\n"
          ]
        }
      ],
      "source": [
        "\n",
        "# file = open('word.txt', 'r')    \n",
        "# s = file.read()                 \n",
        "# s = s.split()\n",
        "# for i in s:\n",
        "#     i = i.strip('.') # 2. ., 삭제\n",
        "#     i = i.strip(',') \n",
        "#     if 'c' in i:\n",
        "#         print(i)\n",
        "            \n",
        "b = input()\n",
        "b = b.split()\n",
        "for i in b:\n",
        "    i = i.strip('.') # 2. ., 삭제\n",
        "    i = i.strip(',') \n",
        "    if 'c' in i:\n",
        "        print(i)"
      ]
    },
    {
      "cell_type": "markdown",
      "metadata": {
        "id": "nGSUd2x7FQEg"
      },
      "source": [
        "# 28. 회문 판별과 N-gram 만들기\n",
        "\n",
        "## 28-심사문제\n",
        "\n",
        "1. 단어가 줄 단위로 저장된 words.txt 파일이 주어집니다. words.txt 파일에서 회문인 단어를 각 줄에 출력하는 프로그램을 만드세요. 단어를 출력할 때는 등장한 순서대로 출력해야 합니다. 그리고 파일에서 읽은 단어는 \\n이 붙어있으므로 \\n을 제외한 뒤 회문인지 판단해야 하며 단어를 출력할 때도 \\n이 출력되면 안 됩니다(단어 사이에 줄바꿈이 두 번 일어나면 안 됨)."
      ]
    },
    {
      "cell_type": "code",
      "execution_count": null,
      "metadata": {
        "id": "3PHjL1oMFQEg",
        "outputId": "4d3d1528-da03-46df-daa3-7de1a67f7f65"
      },
      "outputs": [
        {
          "name": "stdout",
          "output_type": "stream",
          "text": [
            "단어를 입력하세요: level\n",
            "True\n",
            "단어를 입력하세요: level\n",
            "True\n",
            "He\n",
            "el\n",
            "ll\n",
            "lo\n",
            "this is\n",
            "is python\n",
            "python script\n",
            "he\n",
            "el\n",
            "ll\n",
            "lo\n"
          ]
        },
        {
          "data": {
            "text/plain": [
              "[('h', 'e', 'l'), ('e', 'l', 'l'), ('l', 'l', 'o')]"
            ]
          },
          "execution_count": 29,
          "metadata": {},
          "output_type": "execute_result"
        }
      ],
      "source": [
        "#회문 판별법 \n",
        "word = input('단어를 입력하세요: ')\n",
        " \n",
        "is_palindrome = True                 # 회문 판별값을 저장할 변수, 초깃값은 True\n",
        "for i in range(len(word) // 2):      # 0부터 문자열 길이의 절반만큼 반복\n",
        "    if word[i] != word[-1 - i]:      # 왼쪽 문자와 오른쪽 문자를 비교하여 문자가 다르면\n",
        "        is_palindrome = False        # 회문이 아님\n",
        "        break\n",
        " \n",
        "print(is_palindrome)                 # 회문 판별값 출력\n",
        "\n",
        "word = input('단어를 입력하세요: ')\n",
        "print(word == word[::-1]) #전체 index에 1씩 감소시키면서 요소 비교 -> reverse\n",
        "\n",
        "word = 'level'\n",
        "list(word) == list(reversed(word))\n",
        "\n",
        "word = 'level'\n",
        "word == ''.join(reversed(word))\n",
        "\n",
        "#N-gram: 문자열에서 N개의 연속된 요소를 추출하는 방법\n",
        "\n",
        "text = 'Hello' \n",
        "\n",
        "for i in range(len(text) - 1):             # 2-gram이므로 문자열의 끝에서 한 글자 앞까지만 반복함\n",
        "    print(text[i], text[i + 1], sep='')    # 현재 문자와 그다음 문자 출력\n",
        "    \n",
        "text = 'this is python script'\n",
        "words = text.split()                 # 공백을 기준으로 문자열을 분리하여 리스트로 만듦\n",
        "\n",
        "for i in range(len(words) - 1):      # 2-gram이므로 리스트의 마지막에서 요소 한 개 앞까지만 반복함\n",
        "    print(words[i], words[i + 1])    # 현재 문자열과 그다음 문자열 출력\n",
        "    \n",
        "    \n",
        "text = 'hello'\n",
        " \n",
        "two_gram = zip(text, text[1:]) #zip 함수는 반복 가능한 객체의 각 요소를 튜플로 묶어줍니다.\n",
        "for i in two_gram:\n",
        "    print(i[0], i[1], sep='')\n",
        "\n",
        "list(zip(*[text[i:] for i in range(3)]))\n",
        "\n"
      ]
    },
    {
      "cell_type": "code",
      "execution_count": null,
      "metadata": {
        "id": "LF6ZMu5sFQEg",
        "outputId": "e79be11b-da13-4975-c6f0-e724a19cf8dc"
      },
      "outputs": [
        {
          "name": "stdout",
          "output_type": "stream",
          "text": [
            "[['The', 'two', 'values'], ['two', 'values', 'can'], ['values', 'can', 'differ'], ['can', 'differ', 'substantially']]\n"
          ]
        }
      ],
      "source": [
        "text = 'The two values can differ substantially'\n",
        "\n",
        "def gram(text, n):\n",
        "    text = text.split()\n",
        "    text_gram = []\n",
        "    for i in range(len(text)-n+1):\n",
        "        text_gram.append(text[i:i+n])\n",
        "    return text_gram\n",
        "\n",
        "print(gram(text, 3))"
      ]
    },
    {
      "cell_type": "code",
      "execution_count": null,
      "metadata": {
        "id": "rLNP06Y-FQEh"
      },
      "outputs": [],
      "source": [
        "with open('word.txt', 'r') as file:\n",
        "    lines = file.readlines()\n",
        "\n",
        "for i in lines:\n",
        "    if list(i.strip('\\n')) != list(reversed(i.strip('\\n'))):\n",
        "        continue\n",
        "    else:\n",
        "        print(i.strip('\\n'))\n",
        "\n",
        "    "
      ]
    },
    {
      "cell_type": "markdown",
      "metadata": {
        "id": "NMsteGJvFQEh"
      },
      "source": [
        "# 29. 함수 사용하기\n",
        "\n",
        "## 29-심사문제\n",
        "\n",
        "1. 표준 입력으로 숫자 두 개가 입력됩니다. 다음 소스 코드를 완성하여 두 숫자의 덧셈, 뺄셈, 곱셈, 나눗셈의 결과가 출력되게 만드세요. 이때 나눗셈의 결과는 실수라야 합니다."
      ]
    },
    {
      "cell_type": "code",
      "execution_count": null,
      "metadata": {
        "id": "Oe9lwFX-FQEh",
        "outputId": "53806005-4d3d-4711-c715-f409b21c393b"
      },
      "outputs": [
        {
          "name": "stdout",
          "output_type": "stream",
          "text": [
            "10 20\n",
            "덧셈: 30, 뺄셈: -10, 곱셈: 200, 나눗셈: 0.5\n"
          ]
        }
      ],
      "source": [
        "x, y = map(int, input().split())\n",
        "\n",
        "def calc(a, b):\n",
        "    return a+b, a-b, a*b, a/b\n",
        "\n",
        "a, s, m, d = calc(x, y)\n",
        "print('덧셈: {0}, 뺄셈: {1}, 곱셈: {2}, 나눗셈: {3}'.format(a, s, m, d))\n",
        "\n"
      ]
    },
    {
      "cell_type": "markdown",
      "metadata": {
        "id": "MxeV8QEKFQEh"
      },
      "source": [
        "# 30. 함수에서 위치 인수와 키워드 인수 사용하기\n",
        "\n",
        "## 30-심사문제\n",
        "\n",
        "1. 표준 입력으로 국어, 영어, 수학, 과학 점수가 입력됩니다. 다음 소스 코드를 완성하여 가장 높은 점수, 가장 낮은 점수, 평균 점수가 출력되게 만드세요. 평균 점수는 실수로 출력되어야 합니다."
      ]
    },
    {
      "cell_type": "code",
      "execution_count": null,
      "metadata": {
        "id": "IPq1B3s5FQEh",
        "outputId": "3737abb7-81fe-4c3e-cb14-edd5ee1a13a8"
      },
      "outputs": [
        {
          "name": "stdout",
          "output_type": "stream",
          "text": [
            "76 82 89 84\n",
            "낮은 점수: 76.00, 높은 점수: 89.00, 평균 점수: 82.75\n",
            "낮은 점수: 82.00, 높은 점수: 84.00, 평균 점수: 83.00\n"
          ]
        }
      ],
      "source": [
        "# *args: 가변 인수(variable argument)\n",
        "# 키워드 인수: 인수에 이름(키워드)을 붙이는 기능(키워드=값)\n",
        "\n",
        "korean, english, mathematics, science = map(int, input().split())\n",
        "\n",
        "def get_min_max_score(*args):#*args는 튜플로 언패키징\n",
        "    return min(*args), max(*args)\n",
        "\n",
        "def get_average(**kwargs):#**kwargs는 딕셔너리로 언패키징\n",
        "    return sum(kwargs.values())/len(kwargs) \n",
        "\n",
        "min_score, max_score = get_min_max_score(korean, english, mathematics, science)\n",
        "average_score = get_average(korean=korean, english=english,\n",
        "                            mathematics=mathematics, science=science)\n",
        "print('낮은 점수: {0:.2f}, 높은 점수: {1:.2f}, 평균 점수: {2:.2f}'\n",
        "      .format(min_score, max_score, average_score))\n",
        " \n",
        "min_score, max_score = get_min_max_score(english, science)\n",
        "average_score = get_average(english=english, science=science)\n",
        "print('낮은 점수: {0:.2f}, 높은 점수: {1:.2f}, 평균 점수: {2:.2f}'\n",
        "      .format(min_score, max_score, average_score))"
      ]
    },
    {
      "cell_type": "markdown",
      "metadata": {
        "id": "-VaHP3LrFQEh"
      },
      "source": [
        "#  31. 함수에서 재귀호출 사용하기\n",
        "\n",
        "## 31-심사문제\n",
        "\n",
        "1. 표준 입력으로 정수 한 개가 입력됩니다(입력 값의 범위는 10~30). 다음 소스 코드를 완성하여 입력된 정수에 해당하는 피보나치 수가 출력되게 만드세요.\n"
      ]
    },
    {
      "cell_type": "code",
      "execution_count": null,
      "metadata": {
        "id": "rk4tOivWFQEh",
        "outputId": "5530bcfe-7de9-4481-d20e-eafc63d43a2a"
      },
      "outputs": [
        {
          "name": "stdout",
          "output_type": "stream",
          "text": [
            "False\n",
            "True\n",
            "10\n",
            "55\n"
          ]
        }
      ],
      "source": [
        "def is_palindrome(word):\n",
        "    if len(word) < 2:\n",
        "        return True\n",
        "    if word[0] != word[-1]:\n",
        "        return False\n",
        "    return is_palindrome(word[1:-1])                       \n",
        " \n",
        "print(is_palindrome('hello'))\n",
        "print(is_palindrome('level'))\n",
        "\n",
        "def fib(n):\n",
        "    if n == 0:\n",
        "        return 0\n",
        "    elif n == 1 or n == 2:\n",
        "        return 1\n",
        "    else:\n",
        "        return fib(n-1) + fib(n-2)\n",
        "\n",
        "\n",
        "n = int(input())\n",
        "print(fib(n))"
      ]
    },
    {
      "cell_type": "markdown",
      "metadata": {
        "id": "8todaKbgFQEh"
      },
      "source": [
        "# 32. 람다 표현식 사용하기\n",
        "\n",
        "## 32-심사문제\n",
        "\n",
        "1. 표준 입력으로 숫자.확장자 형식으로 된 파일 이름 여러 개가 입력됩니다. 다음 소스 코드를 완성하여 파일 이름이 숫자 3개이면서 앞에 0이 들어가는 형식으로 출력되게 만드세요. 예를 들어 1.png는 001.png, 99.docx는 099.docx, 100.xlsx는 100.xlsx처럼 출력되어야 합니다. 그리고 람다 표현식을 사용해야 하며 출력 결과는 리스트 형태라야 합니다. 람다 표현식에서 파일명을 처리할 때는 문자열 포매팅과 문자열 메서드를 활용하세요."
      ]
    },
    {
      "cell_type": "code",
      "execution_count": null,
      "metadata": {
        "id": "ImmmBLQ6FQEh",
        "outputId": "f7e4a16a-ec34-4f40-c110-ff3e87c76668"
      },
      "outputs": [
        {
          "name": "stdout",
          "output_type": "stream",
          "text": [
            "11\n",
            "11\n",
            "11\n",
            "11\n",
            "['1', 2.0, 13, 14, 15, 16, 17, 18, 19, 20]\n",
            "[8, 7, 9]\n",
            "55\n"
          ]
        }
      ],
      "source": [
        "def ten(x):\n",
        "    return x + 10\n",
        "print(ten(1))\n",
        "l_ten = lambda x: x + 10 #람다 표현식(익명함수)은 변수로 만들어줘야 함수로 사용 가능\n",
        "print(l_ten(1))\n",
        "print((lambda x: x + 10)(1)) #변수로 만들지 않고 함수로 사용하는 방법\n",
        "y = 10\n",
        "print((lambda x: x + y)(1)) #람다 표현식 밖에 있는 변수 사용 가능(안에서 새로 변수를 만드는 것은 불가능)\n",
        "\n",
        "\n",
        "a = [1, 2, 3, 4, 5, 6, 7, 8, 9, 10]\n",
        "print(list(map(lambda x: str(x) if x == 1 else float(x) if x == 2 else x + 10, a))) #람다 표현식 + map\n",
        "#람다 표현식에서 if를 쓸 땐 else를 같이 써야 함(elif는 사용 불가)\n",
        "\n",
        "b = [8, 3, 2, 10, 15, 7, 1, 9, 0, 11]\n",
        "print(list(filter(lambda x: x > 5 and x < 10, b))) #람다 표현식 + filter\n",
        "\n",
        "from functools import reduce\n",
        "#reduce: 반복 가능한 객체의 각 요소를 지정된 함수로 처리한 뒤 이전 결과와 누적해서 반환\n",
        "print(reduce(lambda x, y: x + y, a)) #람다 표현식 + reduce"
      ]
    },
    {
      "cell_type": "code",
      "execution_count": null,
      "metadata": {
        "id": "cgDCC2z0FQEi",
        "outputId": "f0d9fdce-e5a1-492c-9a10-8628775c5e08"
      },
      "outputs": [
        {
          "name": "stdout",
          "output_type": "stream",
          "text": [
            "97.xlsx 98.docx 99.docx 100.xlsx 101.docx 102.docx\n",
            "['097.xlsx', '098.docx', '099.docx', '100.xlsx', '101.docx', '102.docx']\n"
          ]
        }
      ],
      "source": [
        "files = input().split()\n",
        "\n",
        "# print('1.jpg'.zfill(7))\n",
        "# 3 -> 7\n",
        "# 4 -> 8\n",
        "# 5 -> 10...\n",
        "\n",
        "# def zero(x):\n",
        "#     x = x.split()\n",
        "#     for i in range(len(x)):\n",
        "#         j = x[i].split('.')\n",
        "#         x[i] = x[i].zfill(len(j[1])+4)\n",
        "#     return x\n",
        "\n",
        "# def zerozero(x):\n",
        "#     j = x.split('.')\n",
        "#     x = x.zfill(len(j[1])+4)\n",
        "#     return x\n",
        "\n",
        "print(list(map(lambda x: x.zfill(7) if len(x.split('.')[1]) == 3 else x.zfill(8), files)))\n"
      ]
    },
    {
      "cell_type": "markdown",
      "metadata": {
        "id": "3m_YmJXnFQEi"
      },
      "source": [
        "# 33. 클로저 사용하기\n",
        "\n",
        "## 33-심사문제\n",
        "\n",
        "1. 표준 입력으로 정수가 입력됩니다. 다음 소스 코드를 완성하여 함수 c를 호출할 때마다 숫자가 1씩 줄어들게 만드세요. 여기서는 함수를 클로저로 만들어야 합니다. 정답에 코드를 작성할 때는 def countdown(n):에 맞춰서 들여쓰기를 해주세요."
      ]
    },
    {
      "cell_type": "code",
      "execution_count": null,
      "metadata": {
        "id": "euZjIryjFQEi",
        "outputId": "b23af21c-65eb-40bd-883b-c42db826289c"
      },
      "outputs": [
        {
          "name": "stdout",
          "output_type": "stream",
          "text": [
            "20\n",
            "<function countdown.<locals>.count at 0x000001E633867310>\n",
            "20 19 18 17 16 15 14 13 12 11 10 9 8 7 6 5 4 3 2 1 "
          ]
        }
      ],
      "source": [
        "# global: 현재 함수의 지역변수를 전역변수로 사용\n",
        "# nonlocal: 현재 함수의 바깥쪽에 있는 지역 변수의 값을 변경 \n",
        "\n",
        "def countdown(n):\n",
        "    i = n+1\n",
        "    def count():\n",
        "        nonlocal i\n",
        "        i = i - 1\n",
        "        return i\n",
        "    return count\n",
        "\n",
        "n = int(input())\n",
        " \n",
        "c = countdown(n) # 클로저: (상속이랑 비슷함)함수를 둘러싼 환경(지역변수, 코드 등)을 계속 유지하다가 함수를 호출할 때 다시 꺼내서 사용하는 함수 \n",
        "# print(countdown(20))\n",
        "\n",
        "for i in range(n):\n",
        "    print(c(), end=' ')"
      ]
    },
    {
      "cell_type": "markdown",
      "metadata": {
        "id": "nOj9ulsAFQEi"
      },
      "source": [
        "# 34. 클래스 사용하기\n",
        "\n",
        "## 34-심사문제 \n",
        "\n",
        "1. 표준 입력으로 게임 캐릭터 능력치(체력, 마나, AP)가 입력됩니다. 다음 소스 코드에서 애니(Annie) 클래스를 작성하여 티버(tibbers) 스킬의 피해량이 출력되게 만드세요. 티버의 피해량은 AP * 0.65 + 400이며 AP(Ability Power, 주문력)는 마법 능력치를 뜻합니다."
      ]
    },
    {
      "cell_type": "code",
      "execution_count": null,
      "metadata": {
        "id": "_aYI5H_SFQEi",
        "outputId": "68f1f73f-c62d-44c2-d18e-767a1b4fd676"
      },
      "outputs": [
        {
          "name": "stdout",
          "output_type": "stream",
          "text": [
            "100 100 100\n",
            "티버: 피해량 465.0\n"
          ]
        }
      ],
      "source": [
        "class Annie():\n",
        "    def __init__(self, health, mana, ability_power):\n",
        "        self.health = health\n",
        "        self.mana = mana\n",
        "        self.ability_power = ability_power\n",
        "    def tibbers(self):\n",
        "        self.tibbers = self.ability_power * 0.65 + 400 \n",
        "        print('티버: 피해량', self.tibbers)\n",
        "\n",
        "health, mana, ability_power = map(float, input().split())\n",
        "     \n",
        "x = Annie(health=health, mana=mana, ability_power=ability_power)\n",
        "x.tibbers()"
      ]
    },
    {
      "cell_type": "markdown",
      "metadata": {
        "id": "HwbU3YQoFQEi"
      },
      "source": [
        "# 35. 클래스 속성과 정적, 클래스 메서드 사용하기\n",
        "\n",
        "## 35-심사문제\n",
        "\n",
        "1. 표준 입력으로 시:분:초 형식의 시간이 입력됩니다. 다음 소스 코드에서 Time 클래스를 완성하여 시, 분, 초가 출력되게 만드세요. from_string은 문자열로 인스턴스를 만드는 메서드이며 is_time_valid는 문자열이 올바른 시간인지 검사하는 메서드입니다. 시간은 24시까지, 분은 59분까지, 초는 60초까지 있어야 합니다. 정답에 코드를 작성할 때는 class Time:에 맞춰서 들여쓰기를 해주세요."
      ]
    },
    {
      "cell_type": "code",
      "execution_count": null,
      "metadata": {
        "id": "DkUXCrEeFQEi",
        "outputId": "c7bb4acf-836e-4088-e97b-0ca8b72dd4b5"
      },
      "outputs": [
        {
          "name": "stdout",
          "output_type": "stream",
          "text": [
            "10:20:20\n",
            "10 20 20\n"
          ]
        }
      ],
      "source": [
        "class Time:\n",
        "    def __init__(self, hour, minute, second):\n",
        "        self.hour = hour\n",
        "        self.minute = minute\n",
        "        self.second = second\n",
        "\n",
        "    @staticmethod #정적 method: 인스턴스 속성, 인스턴스 method가 필요없을 때 사용\n",
        "    def is_time_valid(v1):\n",
        "        v1 = v1.split(':')\n",
        "        v1 = list(map(int, v1))\n",
        "        return v1[0] <= 24 and v1[1] <= 59 and v1[2] <= 60\n",
        "    @classmethod #class method: 인스턴스 없이 호출 가능하나 method 안에서 클래스 속성, class method에 접근해야 할 때 사용\n",
        "    def from_string(cls, v1):\n",
        "        v1 = v1.split(':')\n",
        "        v1 = list(map(int, v1))\n",
        "        return Time(v1[0], v1[1], v1[2])\n",
        "\n",
        "\n",
        "       \n",
        "# from_string()\n",
        "# @classmathod \n",
        "# is_time_vaild(cls)\n",
        "\n",
        "time_string = input()\n",
        "t = Time(12, 24, 30)\n",
        "\n",
        "if Time.is_time_valid(time_string):\n",
        "    t = Time.from_string(time_string)\n",
        "    print(t.hour, t.minute, t.second)\n",
        "else:\n",
        "    print('잘못된 시간 형식입니다.')\n"
      ]
    },
    {
      "cell_type": "markdown",
      "metadata": {
        "id": "COomNjbXFQEj"
      },
      "source": [
        "# 36. 클래스 상속 사용하기\n",
        "\n",
        "## 36-심사문제\n",
        "\n",
        "1. 다음 소스 코드에서 동물 클래스 Animal과 날개 클래스 Wing을 상속받아 새 클래스 Bird를 작성하여 '먹다', '파닥거리다', '날다', True, True가 각 줄에 출력되게 만드세요.\n"
      ]
    },
    {
      "cell_type": "code",
      "execution_count": null,
      "metadata": {
        "id": "MBcp_TtqFQEj",
        "outputId": "2b6611d4-bc90-4020-8b1c-c42bd7126aea"
      },
      "outputs": [
        {
          "name": "stdout",
          "output_type": "stream",
          "text": [
            "먹다\n",
            "파닥거리다\n",
            "날다\n",
            "True\n",
            "True\n"
          ]
        }
      ],
      "source": [
        "class Animal:\n",
        "    def eat(self):\n",
        "        print('먹다')\n",
        " \n",
        "class Wing:\n",
        "    def flap(self):\n",
        "        print('파닥거리다')\n",
        "\n",
        "class Bird(Animal, Wing):\n",
        "    def fly(self):\n",
        "        print('날다')\n",
        "\n",
        "    \n",
        "\n",
        "b = Bird()\n",
        "b.eat()\n",
        "b.flap()\n",
        "b.fly()\n",
        "print(issubclass(Bird, Animal))\n",
        "print(issubclass(Bird, Wing))"
      ]
    },
    {
      "cell_type": "markdown",
      "metadata": {
        "id": "JnUCyECnFQEj"
      },
      "source": [
        "# 37. 두 점 사이의 거리 구하기\n",
        "\n",
        "## 37-심사문제\n",
        "\n",
        "1. 표준 입력으로 x, y 좌표 4개가 입력되어 Point2D 클래스의 인스턴스 리스트에 저장됩니다. 여기서 점 4개는 첫 번째 점부터 마지막 점까지 순서대로 이어져 있습니다. 다음 소스 코드를 완성하여 첫 번째 점부터 마지막 점까지 연결된 선의 길이가 출력되게 만드세요."
      ]
    },
    {
      "cell_type": "code",
      "execution_count": null,
      "metadata": {
        "id": "wcXnEThxFQEj",
        "outputId": "427ff23a-f031-420d-fe24-4441a5b30836"
      },
      "outputs": [
        {
          "name": "stdout",
          "output_type": "stream",
          "text": [
            "42.42640687119285\n"
          ]
        }
      ],
      "source": [
        "import math\n",
        " \n",
        "class Point2D:\n",
        "    def __init__(self, x, y):\n",
        "        self.x = x\n",
        "        self.y = y\n",
        " \n",
        "p1 = Point2D(x=30, y=20)    # 점1\n",
        "p2 = Point2D(x=60, y=50)    # 점2\n",
        " \n",
        "a = p2.x - p1.x    # 선 a의 길이\n",
        "b = p2.y - p1.y    # 선 b의 길이\n",
        " \n",
        "c = math.sqrt((a * a) + (b * b))    # a**2 + b**2 == c**2\n",
        "print(c)    # 42.42640687119285"
      ]
    },
    {
      "cell_type": "code",
      "execution_count": null,
      "metadata": {
        "scrolled": true,
        "id": "mibEj9t-FQEj",
        "outputId": "44cdae74-46df-4177-ffb8-8c72eb829eae"
      },
      "outputs": [
        {
          "name": "stdout",
          "output_type": "stream",
          "text": [
            "5 5 \n"
          ]
        },
        {
          "ename": "ValueError",
          "evalue": "not enough values to unpack (expected 8, got 2)",
          "output_type": "error",
          "traceback": [
            "\u001b[1;31m---------------------------------------------------------------------------\u001b[0m",
            "\u001b[1;31mValueError\u001b[0m                                Traceback (most recent call last)",
            "\u001b[1;32m<ipython-input-3-4763aadaa9fb>\u001b[0m in \u001b[0;36m<module>\u001b[1;34m\u001b[0m\n\u001b[0;32m      8\u001b[0m \u001b[0mlength\u001b[0m \u001b[1;33m=\u001b[0m \u001b[1;36m0.0\u001b[0m\u001b[1;33m\u001b[0m\u001b[1;33m\u001b[0m\u001b[0m\n\u001b[0;32m      9\u001b[0m \u001b[0mp\u001b[0m \u001b[1;33m=\u001b[0m \u001b[1;33m[\u001b[0m\u001b[0mPoint2D\u001b[0m\u001b[1;33m(\u001b[0m\u001b[1;33m)\u001b[0m\u001b[1;33m,\u001b[0m \u001b[0mPoint2D\u001b[0m\u001b[1;33m(\u001b[0m\u001b[1;33m)\u001b[0m\u001b[1;33m,\u001b[0m \u001b[0mPoint2D\u001b[0m\u001b[1;33m(\u001b[0m\u001b[1;33m)\u001b[0m\u001b[1;33m,\u001b[0m \u001b[0mPoint2D\u001b[0m\u001b[1;33m(\u001b[0m\u001b[1;33m)\u001b[0m\u001b[1;33m]\u001b[0m\u001b[1;33m\u001b[0m\u001b[1;33m\u001b[0m\u001b[0m\n\u001b[1;32m---> 10\u001b[1;33m \u001b[0mp\u001b[0m\u001b[1;33m[\u001b[0m\u001b[1;36m0\u001b[0m\u001b[1;33m]\u001b[0m\u001b[1;33m.\u001b[0m\u001b[0mx\u001b[0m\u001b[1;33m,\u001b[0m \u001b[0mp\u001b[0m\u001b[1;33m[\u001b[0m\u001b[1;36m0\u001b[0m\u001b[1;33m]\u001b[0m\u001b[1;33m.\u001b[0m\u001b[0my\u001b[0m\u001b[1;33m,\u001b[0m \u001b[0mp\u001b[0m\u001b[1;33m[\u001b[0m\u001b[1;36m1\u001b[0m\u001b[1;33m]\u001b[0m\u001b[1;33m.\u001b[0m\u001b[0mx\u001b[0m\u001b[1;33m,\u001b[0m \u001b[0mp\u001b[0m\u001b[1;33m[\u001b[0m\u001b[1;36m1\u001b[0m\u001b[1;33m]\u001b[0m\u001b[1;33m.\u001b[0m\u001b[0my\u001b[0m\u001b[1;33m,\u001b[0m \u001b[0mp\u001b[0m\u001b[1;33m[\u001b[0m\u001b[1;36m2\u001b[0m\u001b[1;33m]\u001b[0m\u001b[1;33m.\u001b[0m\u001b[0mx\u001b[0m\u001b[1;33m,\u001b[0m \u001b[0mp\u001b[0m\u001b[1;33m[\u001b[0m\u001b[1;36m2\u001b[0m\u001b[1;33m]\u001b[0m\u001b[1;33m.\u001b[0m\u001b[0my\u001b[0m\u001b[1;33m,\u001b[0m \u001b[0mp\u001b[0m\u001b[1;33m[\u001b[0m\u001b[1;36m3\u001b[0m\u001b[1;33m]\u001b[0m\u001b[1;33m.\u001b[0m\u001b[0mx\u001b[0m\u001b[1;33m,\u001b[0m \u001b[0mp\u001b[0m\u001b[1;33m[\u001b[0m\u001b[1;36m3\u001b[0m\u001b[1;33m]\u001b[0m\u001b[1;33m.\u001b[0m\u001b[0my\u001b[0m \u001b[1;33m=\u001b[0m \u001b[0mmap\u001b[0m\u001b[1;33m(\u001b[0m\u001b[0mint\u001b[0m\u001b[1;33m,\u001b[0m \u001b[0minput\u001b[0m\u001b[1;33m(\u001b[0m\u001b[1;33m)\u001b[0m\u001b[1;33m.\u001b[0m\u001b[0msplit\u001b[0m\u001b[1;33m(\u001b[0m\u001b[1;33m)\u001b[0m\u001b[1;33m)\u001b[0m\u001b[1;33m\u001b[0m\u001b[1;33m\u001b[0m\u001b[0m\n\u001b[0m\u001b[0;32m     11\u001b[0m \u001b[1;33m\u001b[0m\u001b[0m\n\u001b[0;32m     12\u001b[0m \u001b[1;31m# p[1] - p[0]\u001b[0m\u001b[1;33m\u001b[0m\u001b[1;33m\u001b[0m\u001b[1;33m\u001b[0m\u001b[0m\n",
            "\u001b[1;31mValueError\u001b[0m: not enough values to unpack (expected 8, got 2)"
          ]
        }
      ],
      "source": [
        "import math\n",
        " \n",
        "class Point2D:\n",
        "    def __init__(self, x=0, y=0):\n",
        "        self.x = x\n",
        "        self.y = y\n",
        " \n",
        "length = 0.0\n",
        "p = [Point2D(), Point2D(), Point2D(), Point2D()]\n",
        "p[0].x, p[0].y, p[1].x, p[1].y, p[2].x, p[2].y, p[3].x, p[3].y = map(int, input().split())\n",
        "\n",
        "# p[1] - p[0]\n",
        "# p[2] - p[1]\n",
        "# p[3] - p[2]\n",
        "\n",
        "\n",
        "for i in (range(len(p)-1)):\n",
        "    a = p[i+1].x - p[i].x\n",
        "    b = p[i+1].y - p[i].y\n",
        "    length = length + math.sqrt((a*a)+(b*b))\n",
        "\n",
        "print(length) # ex) 군집분석 "
      ]
    },
    {
      "cell_type": "markdown",
      "metadata": {
        "id": "jrLNwwQaFQEj"
      },
      "source": [
        "# 38. 예외 처리 사용하기\n",
        "\n",
        "## 38-심사문제\n",
        "\n",
        "1. 표준 입력으로 문자열이 입력됩니다. 다음 소스 코드를 완성하여 입력된 문자열이 회문이면 문자열을 그대로 출력하고, 회문이 아니면 '회문이 아닙니다.'를 출력하도록 만드세요. palindrome 함수와 NotPalindromeError 예외를 작성해야 합니다."
      ]
    },
    {
      "cell_type": "code",
      "execution_count": null,
      "metadata": {
        "id": "OGSe1LpIFQEj",
        "outputId": "1ae7fef2-e2c7-44da-a80b-40647b74f29f"
      },
      "outputs": [
        {
          "name": "stdout",
          "output_type": "stream",
          "text": [
            "인덱스와 나눌 숫자를 입력하세요: 10 0\n",
            "잘못된 인덱스입니다. list index out of range\n",
            "코드 실행이 끝났습니다.\n"
          ]
        }
      ],
      "source": [
        "# try except로 예외처리하기\n",
        "y = [10, 20, 30]\n",
        "try:\n",
        "    index, x = map(int, input('인덱스와 나눌 숫자를 입력하세요: ').split())\n",
        "    z = y[index] / x\n",
        "except ZeroDivisionError as e:                    # as 뒤에 변수를 지정하면 에러를 받아옴\n",
        "    print('숫자를 0으로 나눌 수 없습니다.', e)    # e에 저장된 에러 메시지 출력\n",
        "except IndexError as e:\n",
        "    print('잘못된 인덱스입니다.', e)\n",
        "else:                        # try의 코드에서 예외가 발생하지 않았을 때 실행됨\n",
        "    print(z)\n",
        "finally:                     # 예외 발생 여부와 상관없이 항상 실행됨\n",
        "    print('코드 실행이 끝났습니다.')"
      ]
    },
    {
      "cell_type": "code",
      "execution_count": null,
      "metadata": {
        "id": "owi2KhYMFQEj",
        "outputId": "e196321a-e868-4de7-ff7e-44ab3de12b67"
      },
      "outputs": [
        {
          "name": "stdout",
          "output_type": "stream",
          "text": [
            "word\n",
            "회문이 아닙니다.\n"
          ]
        }
      ],
      "source": [
        "class NotPalindromeError(Exception): # Exception을 상속받아서 새로운 예외를 만듦\n",
        "    def __init__(self):\n",
        "        super().__init__('회문이 아닙니다.')\n",
        " \n",
        "def palindrome(word):\n",
        "    if word == word[::-1]:\n",
        "        print(word)\n",
        "    if word[0] != word[-1]:\n",
        "        raise NotPalindromeError #회문이 아니면 예외 발생\n",
        "\n",
        "try:\n",
        "    word = input()\n",
        "    palindrome(word)\n",
        "except NotPalindromeError as e:\n",
        "    print(e)"
      ]
    },
    {
      "cell_type": "markdown",
      "metadata": {
        "id": "34r9_8nEFQEk"
      },
      "source": [
        "# 39. 이터레이터 사용하기\n",
        "\n",
        "## 39-심사문제\n",
        "\n",
        "1. 표준 입력으로 정수 세 개가 입력됩니다(첫 번째 정수는 시작하는 초, 두 번째 정수는 반복을 끝낼 초, 세 번째 정수는 인덱스이며 입력되는 초의 범위는 0\\~100000, 입력되는 인덱스의 범위는 0\\~10입니다). 다음 소스 코드에서 시간 값을 생성하는 이터레이터를 만드세요.\n",
        "\n",
        "<li>시간 값은 문자열이고 시:분:초 형식입니다. 만약 숫자가 한 자리일 경우 앞에 0을 붙입니다(예: 12:01:08).\n",
        "<li>1초는 00:00:01입니다. 23:59:59를 넘길 경우 00:00:00부터 다시 시작해야 합니다.\n",
        "<li>시간은 반복을 끝낼 초 직전까지만 출력해야 합니다(반복을 끝낼 초는 포함되지 않음)."
      ]
    },
    {
      "cell_type": "code",
      "execution_count": null,
      "metadata": {
        "id": "M97I_P00FQEk",
        "outputId": "627ab698-5da7-4793-ebf8-065023e33733"
      },
      "outputs": [
        {
          "name": "stdout",
          "output_type": "stream",
          "text": [
            "0 1 2\n",
            "5 6 7 8 9 5 6 7 8 9\n"
          ]
        }
      ],
      "source": [
        "# 반복 가능한 객체: __iter__ 메서드가 있는 객체.\n",
        "# iter(호출가능한객체, 반복을끝낼값): 반복을 끝낼 값이 객체로부터 나오면 반복이 끝남\n",
        "# next: 반복\n",
        "class Counter:\n",
        "    def __init__(self, stop):\n",
        "        self.current = 5    # 현재 숫자 유지, 0부터 지정된 숫자 직전까지 반복\n",
        "        self.stop = stop    # 반복을 끝낼 숫자\n",
        "    def __iter__(self):\n",
        "        return self         # 현재 인스턴스를 반환\n",
        "    def __next__(self):\n",
        "        if self.current < self.stop:    # 현재 숫자가 반복을 끝낼 숫자보다 작을 때\n",
        "            r = self.current            # 반환할 숫자를 변수에 저장\n",
        "            self.current += 1           # 현재 숫자를 1 증가시킴\n",
        "            return r                    # 숫자를 반환\n",
        "        else:                           # 현재 숫자가 반복을 끝낼 숫자보다 크거나 같을 때\n",
        "            raise StopIteration         # 예외 발생\n",
        "    def __getitem__(self, index):\n",
        "        if index < self.stop:\n",
        "            return index\n",
        "        else:\n",
        "            raise IndexError\n",
        "            \n",
        "print(Counter(10)[0], Counter(10)[1], Counter(10)[2])\n",
        "for i in Counter(10):\n",
        "    print(i, end=' ')\n",
        "    \n",
        "a, b, c, d, e = Counter(10)\n",
        "print(a, b, c, d, e)\n",
        "\n",
        "#\n"
      ]
    },
    {
      "cell_type": "code",
      "execution_count": null,
      "metadata": {
        "id": "NKPXjxuzFQEk",
        "outputId": "7c598e36-da9a-449b-9745-71409aeccae1"
      },
      "outputs": [
        {
          "name": "stdout",
          "output_type": "stream",
          "text": [
            "88234 88237 1\n",
            "00:30:34\n",
            "00:30:35\n",
            "00:30:36\n",
            "\n",
            "00:30:35\n"
          ]
        }
      ],
      "source": [
        "class TimeIterator:\n",
        "    def __init__(self, start, stop):\n",
        "        self.start = start\n",
        "        self.stop = stop\n",
        "    def __getitem__(self, index):\n",
        "        self.hour = ((self.start+index)//3600)%24       # 시         \n",
        "        self.minute = ((self.start+index)%3600)//60     # 분\n",
        "        self.second = (((self.start+index)%3600)%60)%60 # 초 \n",
        "        if index < self.stop-self.start:    # 현재 숫자가 반복을 끝낼 숫자보다 작을 때\n",
        "            self.time = list(map(str, [self.hour, self.minute, self.second]))\n",
        "            for i in range(len(self.time)):\n",
        "                self.time[i] = self.time[i].zfill(2) #'0'채우기\n",
        "            index += 1\n",
        "            if self.hour == 23 and self.minute == 59 and self.second == 59:\n",
        "                self.hour = 0\n",
        "                self.minute = 0\n",
        "                self.second = 0\n",
        "                r = ':'.join(self.time)\n",
        "                return r                   \n",
        "            elif self.minute == 59 and self.second == 59:\n",
        "                self.hour += 1 \n",
        "                self.minute = 0\n",
        "                self.second = 0\n",
        "                r = ':'.join(self.time)\n",
        "                return r\n",
        "            elif self.second == 59:\n",
        "                self.minute += 1\n",
        "                self.second = 0\n",
        "                r = ':'.join(self.time)\n",
        "                return r\n",
        "            else:\n",
        "                self.second += 1 # 1초 증가\n",
        "                r = ':'.join(self.time)\n",
        "                return r\n",
        "        else:\n",
        "            raise IndexError\n",
        "start, stop, index = map(int, input().split())\n",
        "a = TimeIterator(start, stop)\n",
        "for i in TimeIterator(start, stop):\n",
        "    print(i)\n",
        " \n",
        "print('\\n', TimeIterator(start, stop)[index], sep='')\n"
      ]
    },
    {
      "cell_type": "markdown",
      "metadata": {
        "id": "m5g6PNqSFQEk"
      },
      "source": [
        "# 40. 제너레이터 사용하기\n",
        "\n",
        "## 40-심사문제\n",
        "\n",
        "1. 표준 입력으로 정수 두 개가 입력됩니다(첫 번째 입력 값의 범위는 10\\~1000, 두 번째 입력 값의 범위는 100\\~1000이며 첫 번째 입력 값은 두 번째 입력 값보다 항상 작습니다). 다음 소스 코드에서 첫 번째 정수부터 두 번째 정수 사이의 소수(prime number)를 생성하는 제너레이터를 만드세요. 소수는 1과 자기자신만으로 나누어 떨어지는 1보다 큰 양의 정수입니다."
      ]
    },
    {
      "cell_type": "code",
      "execution_count": null,
      "metadata": {
        "id": "_Y-HK87UFQEk",
        "outputId": "0daf7558-ab23-49a5-9978-36f0b5643cdb"
      },
      "outputs": [
        {
          "name": "stdout",
          "output_type": "stream",
          "text": [
            "0\n",
            "1\n",
            "2\n",
            "APPLE\n",
            "PEAR\n",
            "GRAPE\n",
            "PINEAPPLE\n",
            "ORANGE\n",
            "1\n",
            "2\n",
            "3\n"
          ]
        }
      ],
      "source": [
        "# 제너레이터(발생자): 이터레이터를 생성해주는 함수 -> 함수 안에서 yield를 사용하면 제너레이터가 생성됨\n",
        "# yield from 반복 가능한 객체 or 이터레이터 or 제너레이터 객체: 값을 여러번 밖으로 전달할 때 \n",
        "\n",
        "def number_generator(stop):\n",
        "    n = 0              # 숫자는 0부터 시작\n",
        "    while n < stop:    # 현재 숫자가 반복을 끝낼 숫자보다 작을 때 반복\n",
        "        yield n        # 현재 숫자를 바깥으로 전달\n",
        "        n += 1         # 현재 숫자를 증가시킴\n",
        " \n",
        "for i in number_generator(3):\n",
        "    print(i)\n",
        "\n",
        "def upper_generator(x):\n",
        "    for i in x:\n",
        "        yield i.upper()    # 함수의 반환값을 바깥으로 전달\n",
        " \n",
        "fruits = ['apple', 'pear', 'grape', 'pineapple', 'orange']\n",
        "for i in upper_generator(fruits):\n",
        "    print(i)\n",
        "\n",
        "def number_generator():\n",
        "    x = [1, 2, 3]\n",
        "    yield from x    # 리스트에 들어있는 요소를 한 개씩 바깥으로 전달\n",
        " \n",
        "for i in number_generator():\n",
        "    print(i)"
      ]
    },
    {
      "cell_type": "code",
      "execution_count": null,
      "metadata": {
        "id": "0tDNSUk1FQEk",
        "outputId": "e4b76bde-f759-4c2c-fc8b-cdcdf931ff23"
      },
      "outputs": [
        {
          "name": "stdout",
          "output_type": "stream",
          "text": [
            "10 100\n",
            "<class 'generator'>\n",
            "11 13 17 19 23 29 31 37 41 43 47 53 59 61 67 71 73 79 83 89 97 "
          ]
        }
      ],
      "source": [
        "def is_prime_number(n):\n",
        "    for i in range(2, n):\n",
        "        if n%i != 0:\n",
        "            continue\n",
        "        else:\n",
        "            return False\n",
        "    return True\n",
        "\n",
        "def prime_number_generator(start, stop):\n",
        "    for i in range(start, stop+1):\n",
        "        if is_prime_number(i) == True:\n",
        "            yield i\n",
        "            i += 1\n",
        "    \n",
        "\n",
        "\n",
        "start, stop = map(int, input().split())\n",
        "    \n",
        "g = prime_number_generator(start, stop)\n",
        "print(type(g))\n",
        "for i in g:\n",
        "    print(i, end=' ')\n",
        "    "
      ]
    },
    {
      "cell_type": "markdown",
      "metadata": {
        "id": "yiqry6q_FQEk"
      },
      "source": [
        "# 41. 코루틴 사용하기\n",
        "\n",
        "## 41-심사문제\n",
        "\n",
        "1. 표준 입력으로 사칙연산 계산식이 여러 개 입력됩니다. 다음 소스 코드에서 각 계산식의 결과를 구하는 코루틴을 만드세요. 계산식은 문자열 형태이며 값과 연산자는 공백으로 구분됩니다. 그리고 값은 정수로 변환하여 사용하고, 나눗셈은 / 연산자를 사용하세요."
      ]
    },
    {
      "cell_type": "code",
      "execution_count": null,
      "metadata": {
        "id": "4U-lUuCbFQEk",
        "outputId": "a3e69b2b-f8d1-4b73-9241-98df8d936670"
      },
      "outputs": [
        {
          "name": "stdout",
          "output_type": "stream",
          "text": [
            "0\n",
            "1\n",
            "3\n",
            "6\n",
            "0 1 2 3 4 5 6 7 8 9 10 11 12 13 14 15 16 17 18 19 예외로 코루틴 끝내기\n",
            "190\n"
          ]
        }
      ],
      "source": [
        "def sum_coroutine():\n",
        "    total = 0\n",
        "    while True:\n",
        "        x = (yield total)    # 코루틴 바깥에서 값을 받아오면서 바깥으로 값을 전달\n",
        "        total += x\n",
        " \n",
        "co = sum_coroutine()\n",
        "print(next(co))      # 0: 코루틴 안의 yield까지 코드를 실행하고 코루틴에서 나온 값 출력\n",
        " \n",
        "print(co.send(1))    # 1: 코루틴에 숫자 1을 보내고 코루틴에서 나온 값 출력\n",
        "print(co.send(2))    # 3: 코루틴에 숫자 2를 보내고 코루틴에서 나온 값 출력\n",
        "print(co.send(3))    # 6: 코루틴에 숫자 3을 보내고 코루틴에서 나온 값 출력\n",
        "\n",
        "\n",
        "def number_coroutine():\n",
        "    while True:\n",
        "        x = (yield)\n",
        "        print(x, end=' ')\n",
        " \n",
        "co = number_coroutine()\n",
        "next(co)\n",
        " \n",
        "for i in range(20):\n",
        "    co.send(i)\n",
        " \n",
        "co.close()    # 코루틴 종료\n",
        "\n",
        "def sum_coroutine():\n",
        "    try:\n",
        "        total = 0\n",
        "        while True:\n",
        "            x = (yield)\n",
        "            total += x\n",
        "    except RuntimeError as e:\n",
        "        print(e)\n",
        "        yield total    # 코루틴 바깥으로 값 전달\n",
        " \n",
        "co = sum_coroutine()\n",
        "next(co)\n",
        " \n",
        "for i in range(20):\n",
        "    co.send(i)\n",
        " \n",
        "print(co.throw(RuntimeError, '예외로 코루틴 끝내기')) # 190\n",
        "                                                      # 코루틴의 except에서 yield로 전달받은 값"
      ]
    },
    {
      "cell_type": "code",
      "execution_count": null,
      "metadata": {
        "id": "o5-iL2RtFQEl",
        "outputId": "62a98914-2422-4617-89a4-38df3c177e5f"
      },
      "outputs": [
        {
          "name": "stdout",
          "output_type": "stream",
          "text": [
            "3 * 4, 10 / 5, 20 + 39\n",
            "12\n",
            "2.0\n",
            "59\n"
          ]
        }
      ],
      "source": [
        "def calc():\n",
        "    r = 0\n",
        "    while True:\n",
        "        x = (yield r)\n",
        "        y = x.split(' ')\n",
        "        a = int(y[0])\n",
        "        symbol = y[1]\n",
        "        b = int(y[2])\n",
        "        if symbol == '+':\n",
        "            r = a + b\n",
        "        elif symbol == '-':\n",
        "            r = a - b\n",
        "        elif symbol == '*':\n",
        "            r = a * b\n",
        "        elif symbol == '/':\n",
        "            r = a / b\n",
        "\n",
        "# def calc():\n",
        "#     while True:\n",
        "#         r = yield from expression_corutine()\n",
        "#         print(r)\n",
        "        \n",
        "\n",
        "expressions = input().split(', ')\n",
        "c = calc()\n",
        "next(c)\n",
        " \n",
        "for e in expressions:\n",
        "    print(c.send(e))\n",
        " \n",
        "c.close()"
      ]
    },
    {
      "cell_type": "markdown",
      "metadata": {
        "id": "y3OsGLjTFQEl"
      },
      "source": [
        "# 42. 데코레이터 사용하기\n",
        "\n",
        "## 42-심사문제\n",
        "\n",
        "1. 표준 입력으로 HTML 태그 이름 두 개가 입력됩니다. 다음 소스 코드에서 함수의 반환값을 HTML 태그로 감싸는 데코레이터를 만드세요. HTML 태그는 웹 페이지에 사용하는 문법이며 \\<span>문자열\\</span>, \\<p>문자열\\</p>처럼 <태그이름>으로 시작하며 </태그이름>으로 끝납니다."
      ]
    },
    {
      "cell_type": "code",
      "execution_count": null,
      "metadata": {
        "id": "kS4YQblfFQEl",
        "outputId": "3bc00b66-6605-4ac1-9fa6-f9d8006e34a6"
      },
      "outputs": [
        {
          "name": "stdout",
          "output_type": "stream",
          "text": [
            "hello 함수 시작\n",
            "hello\n",
            "hello 함수 끝\n",
            "world 함수 시작\n",
            "world\n",
            "world 함수 끝\n"
          ]
        }
      ],
      "source": [
        "#데코레이터: 기존 함수를 수정하지 않으면서 추가 기능을 구현할 때 사용한다\n",
        "\n",
        "def trace(func):                             # 호출할 함수를 매개변수로 받음\n",
        "    def wrapper():\n",
        "        print(func.__name__, '함수 시작')    # __name__으로 함수 이름 출력\n",
        "        func()                               # 매개변수로 받은 함수를 호출\n",
        "        print(func.__name__, '함수 끝')\n",
        "    return wrapper                           # wrapper 함수 반환\n",
        " \n",
        "@trace    # @데코레이터\n",
        "def hello():\n",
        "    print('hello')\n",
        " \n",
        "@trace    # @데코레이터\n",
        "def world():\n",
        "    print('world')\n",
        " \n",
        "hello()    # 함수를 그대로 호출\n",
        "world()    # 함수를 그대로 호출"
      ]
    },
    {
      "cell_type": "code",
      "execution_count": null,
      "metadata": {
        "id": "LlsXr_tqFQEl",
        "outputId": "2fe23cc4-1a27-45dc-b2d8-722bb8086d71"
      },
      "outputs": [
        {
          "name": "stdout",
          "output_type": "stream",
          "text": [
            "a a\n",
            "<a><a>Hello, world!</a></a>\n"
          ]
        }
      ],
      "source": [
        "def html_tag(s):                            \n",
        "    def decorator(func):\n",
        "        def wrapper():\n",
        "            return '<{0}>{1}</{0}>'.format(s, func())\n",
        "        return wrapper                          \n",
        "    return decorator\n",
        "\n",
        "\n",
        "a, b = input().split()\n",
        " \n",
        "@html_tag(a)\n",
        "@html_tag(b)\n",
        "def hello():\n",
        "    return 'Hello, world!'\n",
        " \n",
        "print(hello())"
      ]
    },
    {
      "cell_type": "markdown",
      "metadata": {
        "id": "KN6fTtUSFQEl"
      },
      "source": [
        "# 43. 정규표현식 사용하기 \n",
        "\n",
        "## 43.1. 문자열 판단하기"
      ]
    },
    {
      "cell_type": "code",
      "execution_count": null,
      "metadata": {
        "id": "Uk6f0ljPFQEl",
        "outputId": "152df10d-22e5-4a41-8036-53e2acdc4c4f"
      },
      "outputs": [
        {
          "name": "stdout",
          "output_type": "stream",
          "text": [
            "<re.Match object; span=(0, 5), match='Hello'>\n",
            "<re.Match object; span=(7, 13), match='world!'>\n",
            "<re.Match object; span=(0, 5), match='hello'>\n"
          ]
        }
      ],
      "source": [
        "import re \n",
        "# re.match: 문자열 판단하기\n",
        "# re.search: 문자열 일부분이 일치하는지 확인\n",
        "# ^문자열: 문자열이 맨 앞에 오는가\n",
        "# 문자열$: 문자열이 맨 뒤에 오는가\n",
        "# 문자열|문자열: or\n",
        "\n",
        "print(re.search('^Hello', 'Hello, world!')) # 'Hello, world!'가 'Hello'로 시작하는가\n",
        "print(re.search('world!$', 'Hello, world!'))  # 'Hello, world!'가 'world!로 끝나는가\n",
        "print(re.match('hello|world', 'hello')) # 'Hello' or 'world!'가 있는가"
      ]
    },
    {
      "cell_type": "markdown",
      "metadata": {
        "id": "Fx0BaTMXFQEl"
      },
      "source": [
        "## 43.2. 범위 판단하기"
      ]
    },
    {
      "cell_type": "code",
      "execution_count": null,
      "metadata": {
        "id": "F6Xc4Q4lFQEo",
        "outputId": "55616ace-b5bf-429f-81be-d8e61143332d"
      },
      "outputs": [
        {
          "name": "stdout",
          "output_type": "stream",
          "text": [
            "<re.Match object; span=(0, 9), match='Hello1234'>\n",
            "<re.Match object; span=(0, 4), match='1234'>\n",
            "<re.Match object; span=(0, 3), match='홍길동'>\n",
            "<re.Match object; span=(0, 1), match='b'>\n",
            "None\n",
            "<re.Match object; span=(0, 3), match='aab'>\n",
            "<re.Match object; span=(0, 3), match='aab'>\n",
            "<re.Match object; span=(0, 4), match='ab3c'>\n",
            "<re.Match object; span=(0, 4), match='abxd'>\n",
            "<re.Match object; span=(0, 3), match='hhh'>\n",
            "<re.Match object; span=(0, 15), match='hellohellohello'>\n",
            "<re.Match object; span=(0, 11), match='02-100-1000'>\n"
          ]
        }
      ],
      "source": [
        "# [0-9a-zA-Z]*: 숫자(문자)가 0개 이상 있는가\n",
        "# [^0-9a-zA-Z]*: 숫자(문자)를 제외한 모든 숫자(문자)가 0개 이상 있는가\n",
        "# [0-9a-zA-Z]+: 숫자(문자)가 1개 이상 있는가\n",
        "# [^0-9a-zA-Z]+: 숫자(문자)를 제외한 모든 숫자(문자)가 1개 이상 있는가\n",
        "# [0-9a-zA-Z]?: 문자(숫자)가 0개 또는 1개인가\n",
        "# .: .이 있는 위치에 문자(숫자)가 1개 있는가\n",
        "# 문자{시작 개수, 끝 개수} or (문자열){시작 개수, 끝 개수} or [0-9a-zA-Z]{시작 개수, 끝 개수}: 문자 or 문자열 or 숫자가 몇 개 있는가\n",
        "# \\특수문자: 특수문자 판단(단, []안에서는 안 붙여도 됨)\n",
        "# \\d: [0-9]와 같음. 모든 숫자\n",
        "# \\D: [^0-9]와 같음. 숫자를 제외한 모든 문자\n",
        "# \\w: [a-zA-Z0-9_]와 같음. 영문 대소문자, 숫자, 밑줄 문자\n",
        "# \\W: [^a-zA-Z0-9_]와 같음. 영문 대소문자, 숫자, 밑줄 문자를 제외한 모든 문자\n",
        "# \\s: [ \\t\\n\\r\\f\\v]와 같음. 공백(스페이스), \\t(탭) \\n(새 줄, 라인 피드), \\r(캐리지 리턴), \\f(폼피드), \\v(수직 탭)을 포함\n",
        "# \\S: [^ \\t\\n\\r\\f\\v]와 같음. 공백을 제외하고 \\t, \\n, \\r, \\f, \\v만 포함\n",
        "\n",
        "print(re.match('[a-zA-Z0-9]+', 'Hello1234')) #숫자, 대문자, 소문자가 1개 이상 있는가\n",
        "print(re.match('[0-9]+', '1234')) # 0부터 9까지 숫자가 1개 이상 있는가\n",
        "print(re.match('[가-힣]+', '홍길동'))\n",
        "\n",
        "print(re.match('a*b', 'b')) # b에는 a가 0개 이상 있으므로 패턴에 매칭됨\n",
        "print(re.match('a+b', 'b')) # b에는 a가 1개 이상 없으므로 패턴에 매칭되지 않음\n",
        "print(re.match('a*b', 'aab')) # aab에는 a가 0개 이상 있으므로 패턴에 매칭됨\n",
        "print(re.match('a+b', 'aab')) # aab에는 a가 1개 이상 있으므로 패턴에 매칭됨\n",
        "\n",
        "print(re.match('ab[0-9]?c', 'ab3c')) # [0-9]위치에 숫자가 0~1개 있는가\n",
        "print(re.match('ab.d', 'abxd')) # .이 있는 위치에 문자가 1개 있는가\n",
        "\n",
        "print(re.match('h{3}', 'hhhello')) # 'h'가 3번 들어가는가\n",
        "print(re.match('(hello){3}', 'hellohellohelloworld')) # 'hello'가 3번 들어가는가 \n",
        "print(re.match('[0-9]{2,3}-[0-9]{3,4}-[0-9]{4}', '02-100-1000')) \n"
      ]
    },
    {
      "cell_type": "markdown",
      "metadata": {
        "id": "9cgkpU_1FQEo"
      },
      "source": [
        "## 43.3. 그룹 사용하기"
      ]
    },
    {
      "cell_type": "code",
      "execution_count": null,
      "metadata": {
        "id": "QEkMg7DpFQEo",
        "outputId": "180e24d4-7f37-4ff0-8508-3ed02139764c"
      },
      "outputs": [
        {
          "name": "stdout",
          "output_type": "stream",
          "text": [
            "print\n",
            "1234\n",
            "['1', '2', '4', '7', '8']\n"
          ]
        }
      ],
      "source": [
        "# (정규표현식) (정규표현식): 정규표현식 그룹 생성\n",
        "# 매치객체.group(그룹숫자): 해당 그룹과 일치하는 문자열 반환\n",
        "# 매치객체.groups(): 각 그룹에 해당하는 문자열을 튜플 형태로 반환\n",
        "# (?P<이름>정규표현식) 그룹 이름 짓기 \n",
        "# re.findall('패턴', '문자열'): 일치하는 문자열을 리스트로 반환\n",
        "\n",
        "m = re.match('(?P<func>[a-zA-Z_][a-zA-Z0-9_]+)\\((?P<arg>\\w+)\\)', 'print(1234)')\n",
        "print(m.group('func'))\n",
        "print(m.group('arg'))\n",
        "print(re.findall('[0-9]+', '1 2 Fizz 4 Buzz Fizz 7 8'))"
      ]
    },
    {
      "cell_type": "markdown",
      "metadata": {
        "id": "BWBqFeNIFQEo"
      },
      "source": [
        "## 43.4. 문자열 바꾸기"
      ]
    },
    {
      "cell_type": "code",
      "execution_count": null,
      "metadata": {
        "id": "5C8LBrM1FQEo",
        "outputId": "edc6c61e-86c8-4408-8acb-80d6b383d24a"
      },
      "outputs": [
        {
          "data": {
            "text/plain": [
              "'<name>james</name>'"
            ]
          },
          "execution_count": 11,
          "metadata": {},
          "output_type": "execute_result"
        }
      ],
      "source": [
        "re.sub('({\\s*)\"(\\w+)\":\\s*\"(\\w+)\"(\\s*})', '<\\\\2>\\\\3</\\\\2>', '{ \"name\": \"james\" }')"
      ]
    },
    {
      "cell_type": "markdown",
      "metadata": {
        "id": "XLNX2Yo2FQEo"
      },
      "source": [
        "## 43-심사문제\n",
        "\n",
        "1. 표준 입력으로 URL 문자열이 입력 입력됩니다. 입력된 URL이 올바르면 True, 잘못되었으면 False를 출력하는 프로그램을 만드세요. 이 심사문제에서 판단해야 할 URL의 규칙은 다음과 같습니다.\n",
        "\n",
        "<li> http:// 또는 https://로 시작\n",
        "<li> 도메인은 도메인.최상위도메인 형식이며 영문 대소문자, 숫자, -로 되어 있어야 함\n",
        "<li> 도메인 이하 경로는 /로 구분하고, 영문 대소문자, 숫자, -, _, ., ?, =을 사용함 "
      ]
    },
    {
      "cell_type": "code",
      "execution_count": null,
      "metadata": {
        "id": "4XZp7FCeFQEo",
        "outputId": "641e88da-37a2-4e77-e7b2-74297212c92f"
      },
      "outputs": [
        {
          "name": "stdout",
          "output_type": "stream",
          "text": [
            "http://www.example.com/hello/world.do?key=python\n",
            "True\n"
          ]
        }
      ],
      "source": [
        "p = re.compile('^https?\\:\\/\\/([0-9a-zA-Z-]+)\\.*([0-9a-zA-Z-]+)\\/([0-9a-zA-Z-_.?=/]*)')\n",
        "# p = re.compile('^(https?://)[a-zA-Z0-9-]+\\.[a-zA-Z0-9-.]+/[a-zA-Z0-9-_/.?=]*')\n",
        "url = input()\n",
        "print(p.match(url) != None)\n",
        "    \n",
        "# http://www.example.com/hello/world.do?key=python #True\n",
        "# https://example/hello/world.html #False"
      ]
    },
    {
      "cell_type": "markdown",
      "metadata": {
        "id": "PHch7H58FQEp"
      },
      "source": [
        "# 44. 모듈과 패키지 사용하기\n",
        "\n",
        "## 44-심사문제\n",
        "\n",
        "1. 표준 입력으로 원의 반지름(실수)이 입력됩니다. 입력된 반지름을 이용하여 원의 넓이를 출력하는 프로그램을 만드세요(input에서 안내 문자열은 출력하지 않아야 합니다). 원의 넓이는 반지름 * 반지름 * 원주율로 구합니다."
      ]
    },
    {
      "cell_type": "code",
      "execution_count": null,
      "metadata": {
        "id": "9OVD_NOvFQEp",
        "outputId": "23fcb6d0-ed09-45c3-e16b-26b256c80500"
      },
      "outputs": [
        {
          "name": "stdout",
          "output_type": "stream",
          "text": [
            "5\n",
            "78.53981633974483\n"
          ]
        }
      ],
      "source": [
        "from math import pi\n",
        "\n",
        "a = float(input())\n",
        "\n",
        "print(a ** 2 * pi)"
      ]
    },
    {
      "cell_type": "markdown",
      "metadata": {
        "id": "hBkVx7aeFQEp"
      },
      "source": [
        "# 45. 모듈과 패키지 만들기\n",
        "\n",
        "## 45-심사문제\n",
        "\n",
        "1. 표준 입력으로 정수가 입력됩니다. 주어진 calcpkg 패키지를 활용하여 입력된 정수의 제곱근과 입력된 정수를 반지름으로 하는 원의 넓이가 출력되게 만드세요. 제곱근은 calcpkg 패키지에서 operation 모듈의 squareroot 함수를 사용하고, 원의 넓이는 calcpkg 패키지에서 geometry 모듈의 circle_area 함수를 사용하세요(calcpkg 패키지를 사용하지 않고 계산하면 결과가 맞더라도 틀린 것으로 처리됩니다. 반드시 calcpkg 패키지를 사용하세요)."
      ]
    },
    {
      "cell_type": "markdown",
      "metadata": {
        "id": "DDRbDpf7FQEp"
      },
      "source": [
        "# 46. 실전예제: 웹의 데이터로 그래프 그리기"
      ]
    },
    {
      "cell_type": "code",
      "execution_count": null,
      "metadata": {
        "id": "6r77g6R0FQEp",
        "outputId": "c6d67334-add9-459b-d74a-25c8d8516359"
      },
      "outputs": [
        {
          "name": "stderr",
          "output_type": "stream",
          "text": [
            "Matplotlib is building the font cache; this may take a moment.\n"
          ]
        },
        {
          "data": {
            "text/html": [
              "<div>\n",
              "<style scoped>\n",
              "    .dataframe tbody tr th:only-of-type {\n",
              "        vertical-align: middle;\n",
              "    }\n",
              "\n",
              "    .dataframe tbody tr th {\n",
              "        vertical-align: top;\n",
              "    }\n",
              "\n",
              "    .dataframe thead th {\n",
              "        text-align: right;\n",
              "    }\n",
              "</style>\n",
              "<table border=\"1\" class=\"dataframe\">\n",
              "  <thead>\n",
              "    <tr style=\"text-align: right;\">\n",
              "      <th></th>\n",
              "      <th>temperature</th>\n",
              "      <th>humidity</th>\n",
              "    </tr>\n",
              "    <tr>\n",
              "      <th>point</th>\n",
              "      <th></th>\n",
              "      <th></th>\n",
              "    </tr>\n",
              "  </thead>\n",
              "  <tbody>\n",
              "    <tr>\n",
              "      <th>서울</th>\n",
              "      <td>25.6</td>\n",
              "      <td>30</td>\n",
              "    </tr>\n",
              "    <tr>\n",
              "      <th>백령도</th>\n",
              "      <td>18.4</td>\n",
              "      <td>62</td>\n",
              "    </tr>\n",
              "    <tr>\n",
              "      <th>인천</th>\n",
              "      <td>20.8</td>\n",
              "      <td>54</td>\n",
              "    </tr>\n",
              "    <tr>\n",
              "      <th>수원</th>\n",
              "      <td>25.0</td>\n",
              "      <td>41</td>\n",
              "    </tr>\n",
              "    <tr>\n",
              "      <th>동두천</th>\n",
              "      <td>24.9</td>\n",
              "      <td>34</td>\n",
              "    </tr>\n",
              "    <tr>\n",
              "      <th>...</th>\n",
              "      <td>...</td>\n",
              "      <td>...</td>\n",
              "    </tr>\n",
              "    <tr>\n",
              "      <th>합천</th>\n",
              "      <td>25.1</td>\n",
              "      <td>32</td>\n",
              "    </tr>\n",
              "    <tr>\n",
              "      <th>밀양</th>\n",
              "      <td>24.7</td>\n",
              "      <td>34</td>\n",
              "    </tr>\n",
              "    <tr>\n",
              "      <th>산청</th>\n",
              "      <td>24.8</td>\n",
              "      <td>41</td>\n",
              "    </tr>\n",
              "    <tr>\n",
              "      <th>거제</th>\n",
              "      <td>23.1</td>\n",
              "      <td>57</td>\n",
              "    </tr>\n",
              "    <tr>\n",
              "      <th>남해</th>\n",
              "      <td>24.5</td>\n",
              "      <td>40</td>\n",
              "    </tr>\n",
              "  </tbody>\n",
              "</table>\n",
              "<p>95 rows × 2 columns</p>\n",
              "</div>"
            ],
            "text/plain": [
              "       temperature  humidity\n",
              "point                       \n",
              "서울            25.6        30\n",
              "백령도           18.4        62\n",
              "인천            20.8        54\n",
              "수원            25.0        41\n",
              "동두천           24.9        34\n",
              "...            ...       ...\n",
              "합천            25.1        32\n",
              "밀양            24.7        34\n",
              "산청            24.8        41\n",
              "거제            23.1        57\n",
              "남해            24.5        40\n",
              "\n",
              "[95 rows x 2 columns]"
            ]
          },
          "execution_count": 3,
          "metadata": {},
          "output_type": "execute_result"
        }
      ],
      "source": [
        "import requests                  # 웹 페이지의 HTML을 가져오는 모듈\n",
        "from bs4 import BeautifulSoup    # HTML을 파싱하는 모듈\n",
        "# %matplotlib inline을 설정하면 matplotlib.pyplot의 show 함수를 호출하지 않아도\n",
        "# 주피터 노트북 안에서 그래프가 표시됨\n",
        "%matplotlib inline\n",
        "import pandas as pd                # 데이터를 저장하고 처리하는 패키지\n",
        "import matplotlib as mpl           # 그래프를 그리는 패키지\n",
        "import matplotlib.pyplot as plt    # 그래프를 그리는 패키지\n",
        " \n",
        "# 웹 페이지를 가져온 뒤 BeautifulSoup 객체로 만듦\n",
        "response = requests.get('https://pythondojang.bitbucket.io/weather/observation/currentweather.html')\n",
        "soup = BeautifulSoup(response.content, 'html.parser')\n",
        " \n",
        "table = soup.find('table', { 'class': 'table_develop3' })    # <table class=\"table_develop3\">을 찾음\n",
        "data = []                            # 데이터를 저장할 리스트 생성\n",
        "for tr in table.find_all('tr'):      # 모든 <tr> 태그를 찾아서 반복(각 지점의 데이터를 가져옴)\n",
        "    tds = list(tr.find_all('td'))    # 모든 <td> 태그를 찾아서 리스트로 만듦\n",
        "                                     # (각 날씨 값을 리스트로 만듦)\n",
        "    for td in tds:                   # <td> 태그 리스트 반복(각 날씨 값을 가져옴)\n",
        "        if td.find('a'):             # <td> 안에 <a> 태그가 있으면(지점인지 확인)\n",
        "            point = td.find('a').text    # <a> 태그 안에서 지점을 가져옴\n",
        "            temperature = tds[5].text    # <td> 태그 리스트의 여섯 번째(인덱스 5)에서 기온을 가져옴\n",
        "            humidity = tds[9].text       # <td> 태그 리스트의 열 번째(인덱스 9)에서 습도를 가져옴\n",
        "            data.append([point, temperature, humidity])    # data 리스트에 지점, 기온, 습도를 추가\n",
        " \n",
        "with open('weather.csv', 'w') as file:    # weather.csv 파일을 쓰기 모드로 열기\n",
        "    file.write('point,temperature,humidity\\n')                  # 컬럼 이름 추가\n",
        "    for i in data:                                              # data를 반복하면서\n",
        "        file.write('{0},{1},{2}\\n'.format(i[0], i[1], i[2]))    # 지점,온도,습도를 줄 단위로 저장\n",
        "         \n",
        "# csv 파일을 읽어서 DataFrame 객체로 만듦. 인덱스 컬럼은 point로 설정, 인코딩은 euc-kr로 설정\n",
        "df = pd.read_csv('weather.csv', index_col='point', encoding='euc-kr')\n",
        "df"
      ]
    }
  ],
  "metadata": {
    "kernelspec": {
      "display_name": "Python 3",
      "language": "python",
      "name": "python3"
    },
    "language_info": {
      "codemirror_mode": {
        "name": "ipython",
        "version": 3
      },
      "file_extension": ".py",
      "mimetype": "text/x-python",
      "name": "python",
      "nbconvert_exporter": "python",
      "pygments_lexer": "ipython3",
      "version": "3.8.5"
    },
    "colab": {
      "name": "코딩도장 문제 풀이.ipynb",
      "provenance": [],
      "include_colab_link": true
    }
  },
  "nbformat": 4,
  "nbformat_minor": 0
}